{
  "nbformat": 4,
  "nbformat_minor": 0,
  "metadata": {
    "colab": {
      "provenance": []
    },
    "kernelspec": {
      "name": "python3",
      "display_name": "Python 3"
    },
    "language_info": {
      "name": "python"
    },
    "gpuClass": "standard",
    "accelerator": "GPU"
  },
  "cells": [
    {
      "cell_type": "markdown",
      "source": [
        "# **Update**\n",
        "- Ran 50 runs of automodel, found best model at run 2 lol\n",
        "- did not set seed for this but doesnt really matter\n",
        "- have a model that found 240/250 bombs and 991/1000 non bombs correctly classified\n",
        "- this model should always return these values ^ if reinferenced on test data\n",
        "- try the model i designed on this train/test split for comparison\n",
        "- go explore which files this new one got wrong\n",
        "- use the saved history to plot the auprc curve/other metrics\n",
        "- tidy up dirs in google drive\n",
        "- start writing a script to inference on more data (maybe start with one moth I know bombs for)\n",
        "\n",
        "\n",
        "**Old comments:**\n",
        "\n",
        "What this script does:\n",
        "- find the data\n",
        "- shuffle the data\n",
        "- split it into training/val and test data\n",
        "- calc mel specs. Use Mel specs as these emphasise lower freq sounds (which the bombs are). Can also use MFCC's but these are meant to overcome amplitude diffs for e.g speech or music, however, I think these are useful for bombs so keep as mel-spec\n",
        "- train CNN\n",
        "- inference on test data\n",
        "\n",
        "\n",
        "to do:\n",
        "- get proper cross val results (after hyperparam opt?)\n",
        "- save nodel\n",
        "- move inference to new script\n",
        "\n",
        "optional \n",
        "- hyperparam optimisation\n",
        "- augmentation\n",
        "- add wandb callback\n",
        "\n",
        "\n"
      ],
      "metadata": {
        "id": "4eWcZ0MmSc4m"
      }
    },
    {
      "cell_type": "markdown",
      "source": [
        "# **Model ID and training**\n",
        "\n",
        "This script uses autokeras to find the best model architecture and outputs a saved version of this model. The performance of this model can then be assessed in the next script 'Evaluating performance'.\n",
        "\n",
        "\n",
        "# Installs and imports\n",
        "\n",
        "1. Downgrade tensorflow to revent bugs when using the autokeras package.See here: https://stackoverflow.com/questions/73770146/warningtensorflowusing-a-while-loop-for-converting-cause-there-is-no-registere\n",
        "2. Restart the runtime (you do not need to run this cell again)\n",
        "3. Install autokeras\n",
        "4. Connect Google Drive\n",
        "5. Set paths to your input and output directories\n",
        "6. Import all other packages"
      ],
      "metadata": {
        "id": "xmNV6tf0TVIS"
      }
    },
    {
      "cell_type": "code",
      "source": [
        "# Downgrade tensorflow, run this cell, restart the runtime then no need to run this cell again\n",
        "!pip install tensorflow==2.8.3"
      ],
      "metadata": {
        "id": "l9UtVpWAgmm-",
        "colab": {
          "base_uri": "https://localhost:8080/"
        },
        "outputId": "649477af-d198-4c3b-a528-8c4658c7e386"
      },
      "execution_count": null,
      "outputs": [
        {
          "output_type": "stream",
          "name": "stdout",
          "text": [
            "Looking in indexes: https://pypi.org/simple, https://us-python.pkg.dev/colab-wheels/public/simple/\n",
            "Collecting tensorflow==2.8.3\n",
            "  Downloading tensorflow-2.8.3-cp38-cp38-manylinux2010_x86_64.whl (498.4 MB)\n",
            "\u001b[2K     \u001b[90m━━━━━━━━━━━━━━━━━━━━━━━━━━━━━━━━━━━━━━━\u001b[0m \u001b[32m498.4/498.4 MB\u001b[0m \u001b[31m2.6 MB/s\u001b[0m eta \u001b[36m0:00:00\u001b[0m\n",
            "\u001b[?25hRequirement already satisfied: grpcio<2.0,>=1.24.3 in /usr/local/lib/python3.8/dist-packages (from tensorflow==2.8.3) (1.51.3)\n",
            "Collecting keras<2.9,>=2.8.0rc0\n",
            "  Downloading keras-2.8.0-py2.py3-none-any.whl (1.4 MB)\n",
            "\u001b[2K     \u001b[90m━━━━━━━━━━━━━━━━━━━━━━━━━━━━━━━━━━━━━━━━\u001b[0m \u001b[32m1.4/1.4 MB\u001b[0m \u001b[31m22.1 MB/s\u001b[0m eta \u001b[36m0:00:00\u001b[0m\n",
            "\u001b[?25hRequirement already satisfied: setuptools in /usr/local/lib/python3.8/dist-packages (from tensorflow==2.8.3) (57.4.0)\n",
            "Requirement already satisfied: protobuf<3.20,>=3.9.2 in /usr/local/lib/python3.8/dist-packages (from tensorflow==2.8.3) (3.19.6)\n",
            "Requirement already satisfied: h5py>=2.9.0 in /usr/local/lib/python3.8/dist-packages (from tensorflow==2.8.3) (3.1.0)\n",
            "Requirement already satisfied: absl-py>=0.4.0 in /usr/local/lib/python3.8/dist-packages (from tensorflow==2.8.3) (1.4.0)\n",
            "Requirement already satisfied: google-pasta>=0.1.1 in /usr/local/lib/python3.8/dist-packages (from tensorflow==2.8.3) (0.2.0)\n",
            "Requirement already satisfied: gast>=0.2.1 in /usr/local/lib/python3.8/dist-packages (from tensorflow==2.8.3) (0.4.0)\n",
            "Requirement already satisfied: wrapt>=1.11.0 in /usr/local/lib/python3.8/dist-packages (from tensorflow==2.8.3) (1.15.0)\n",
            "Requirement already satisfied: six>=1.12.0 in /usr/local/lib/python3.8/dist-packages (from tensorflow==2.8.3) (1.15.0)\n",
            "Requirement already satisfied: numpy>=1.20 in /usr/local/lib/python3.8/dist-packages (from tensorflow==2.8.3) (1.22.4)\n",
            "Requirement already satisfied: termcolor>=1.1.0 in /usr/local/lib/python3.8/dist-packages (from tensorflow==2.8.3) (2.2.0)\n",
            "Collecting tensorboard<2.9,>=2.8\n",
            "  Downloading tensorboard-2.8.0-py3-none-any.whl (5.8 MB)\n",
            "\u001b[2K     \u001b[90m━━━━━━━━━━━━━━━━━━━━━━━━━━━━━━━━━━━━━━━━\u001b[0m \u001b[32m5.8/5.8 MB\u001b[0m \u001b[31m20.8 MB/s\u001b[0m eta \u001b[36m0:00:00\u001b[0m\n",
            "\u001b[?25hCollecting keras-preprocessing>=1.1.1\n",
            "  Downloading Keras_Preprocessing-1.1.2-py2.py3-none-any.whl (42 kB)\n",
            "\u001b[2K     \u001b[90m━━━━━━━━━━━━━━━━━━━━━━━━━━━━━━━━━━━━━━━━\u001b[0m \u001b[32m42.6/42.6 KB\u001b[0m \u001b[31m2.8 MB/s\u001b[0m eta \u001b[36m0:00:00\u001b[0m\n",
            "\u001b[?25hRequirement already satisfied: libclang>=9.0.1 in /usr/local/lib/python3.8/dist-packages (from tensorflow==2.8.3) (15.0.6.1)\n",
            "Requirement already satisfied: astunparse>=1.6.0 in /usr/local/lib/python3.8/dist-packages (from tensorflow==2.8.3) (1.6.3)\n",
            "Requirement already satisfied: flatbuffers>=1.12 in /usr/local/lib/python3.8/dist-packages (from tensorflow==2.8.3) (23.1.21)\n",
            "Collecting tensorflow-estimator<2.9,>=2.8\n",
            "  Downloading tensorflow_estimator-2.8.0-py2.py3-none-any.whl (462 kB)\n",
            "\u001b[2K     \u001b[90m━━━━━━━━━━━━━━━━━━━━━━━━━━━━━━━━━━━━━━\u001b[0m \u001b[32m462.3/462.3 KB\u001b[0m \u001b[31m21.3 MB/s\u001b[0m eta \u001b[36m0:00:00\u001b[0m\n",
            "\u001b[?25hRequirement already satisfied: typing-extensions>=3.6.6 in /usr/local/lib/python3.8/dist-packages (from tensorflow==2.8.3) (4.5.0)\n",
            "Requirement already satisfied: tensorflow-io-gcs-filesystem>=0.23.1 in /usr/local/lib/python3.8/dist-packages (from tensorflow==2.8.3) (0.31.0)\n",
            "Requirement already satisfied: opt-einsum>=2.3.2 in /usr/local/lib/python3.8/dist-packages (from tensorflow==2.8.3) (3.3.0)\n",
            "Requirement already satisfied: wheel<1.0,>=0.23.0 in /usr/local/lib/python3.8/dist-packages (from astunparse>=1.6.0->tensorflow==2.8.3) (0.38.4)\n",
            "Requirement already satisfied: google-auth-oauthlib<0.5,>=0.4.1 in /usr/local/lib/python3.8/dist-packages (from tensorboard<2.9,>=2.8->tensorflow==2.8.3) (0.4.6)\n",
            "Requirement already satisfied: markdown>=2.6.8 in /usr/local/lib/python3.8/dist-packages (from tensorboard<2.9,>=2.8->tensorflow==2.8.3) (3.4.1)\n",
            "Requirement already satisfied: google-auth<3,>=1.6.3 in /usr/local/lib/python3.8/dist-packages (from tensorboard<2.9,>=2.8->tensorflow==2.8.3) (2.16.1)\n",
            "Requirement already satisfied: tensorboard-data-server<0.7.0,>=0.6.0 in /usr/local/lib/python3.8/dist-packages (from tensorboard<2.9,>=2.8->tensorflow==2.8.3) (0.6.1)\n",
            "Requirement already satisfied: tensorboard-plugin-wit>=1.6.0 in /usr/local/lib/python3.8/dist-packages (from tensorboard<2.9,>=2.8->tensorflow==2.8.3) (1.8.1)\n",
            "Requirement already satisfied: werkzeug>=0.11.15 in /usr/local/lib/python3.8/dist-packages (from tensorboard<2.9,>=2.8->tensorflow==2.8.3) (2.2.3)\n",
            "Requirement already satisfied: requests<3,>=2.21.0 in /usr/local/lib/python3.8/dist-packages (from tensorboard<2.9,>=2.8->tensorflow==2.8.3) (2.25.1)\n",
            "Requirement already satisfied: cachetools<6.0,>=2.0.0 in /usr/local/lib/python3.8/dist-packages (from google-auth<3,>=1.6.3->tensorboard<2.9,>=2.8->tensorflow==2.8.3) (5.3.0)\n",
            "Requirement already satisfied: rsa<5,>=3.1.4 in /usr/local/lib/python3.8/dist-packages (from google-auth<3,>=1.6.3->tensorboard<2.9,>=2.8->tensorflow==2.8.3) (4.9)\n",
            "Requirement already satisfied: pyasn1-modules>=0.2.1 in /usr/local/lib/python3.8/dist-packages (from google-auth<3,>=1.6.3->tensorboard<2.9,>=2.8->tensorflow==2.8.3) (0.2.8)\n",
            "Requirement already satisfied: requests-oauthlib>=0.7.0 in /usr/local/lib/python3.8/dist-packages (from google-auth-oauthlib<0.5,>=0.4.1->tensorboard<2.9,>=2.8->tensorflow==2.8.3) (1.3.1)\n",
            "Requirement already satisfied: importlib-metadata>=4.4 in /usr/local/lib/python3.8/dist-packages (from markdown>=2.6.8->tensorboard<2.9,>=2.8->tensorflow==2.8.3) (6.0.0)\n",
            "Requirement already satisfied: chardet<5,>=3.0.2 in /usr/local/lib/python3.8/dist-packages (from requests<3,>=2.21.0->tensorboard<2.9,>=2.8->tensorflow==2.8.3) (4.0.0)\n",
            "Requirement already satisfied: certifi>=2017.4.17 in /usr/local/lib/python3.8/dist-packages (from requests<3,>=2.21.0->tensorboard<2.9,>=2.8->tensorflow==2.8.3) (2022.12.7)\n",
            "Requirement already satisfied: urllib3<1.27,>=1.21.1 in /usr/local/lib/python3.8/dist-packages (from requests<3,>=2.21.0->tensorboard<2.9,>=2.8->tensorflow==2.8.3) (1.26.14)\n",
            "Requirement already satisfied: idna<3,>=2.5 in /usr/local/lib/python3.8/dist-packages (from requests<3,>=2.21.0->tensorboard<2.9,>=2.8->tensorflow==2.8.3) (2.10)\n",
            "Requirement already satisfied: MarkupSafe>=2.1.1 in /usr/local/lib/python3.8/dist-packages (from werkzeug>=0.11.15->tensorboard<2.9,>=2.8->tensorflow==2.8.3) (2.1.2)\n",
            "Requirement already satisfied: zipp>=0.5 in /usr/local/lib/python3.8/dist-packages (from importlib-metadata>=4.4->markdown>=2.6.8->tensorboard<2.9,>=2.8->tensorflow==2.8.3) (3.15.0)\n",
            "Requirement already satisfied: pyasn1<0.5.0,>=0.4.6 in /usr/local/lib/python3.8/dist-packages (from pyasn1-modules>=0.2.1->google-auth<3,>=1.6.3->tensorboard<2.9,>=2.8->tensorflow==2.8.3) (0.4.8)\n",
            "Requirement already satisfied: oauthlib>=3.0.0 in /usr/local/lib/python3.8/dist-packages (from requests-oauthlib>=0.7.0->google-auth-oauthlib<0.5,>=0.4.1->tensorboard<2.9,>=2.8->tensorflow==2.8.3) (3.2.2)\n",
            "Installing collected packages: tensorflow-estimator, keras, keras-preprocessing, tensorboard, tensorflow\n",
            "  Attempting uninstall: tensorflow-estimator\n",
            "    Found existing installation: tensorflow-estimator 2.11.0\n",
            "    Uninstalling tensorflow-estimator-2.11.0:\n",
            "      Successfully uninstalled tensorflow-estimator-2.11.0\n",
            "  Attempting uninstall: keras\n",
            "    Found existing installation: keras 2.11.0\n",
            "    Uninstalling keras-2.11.0:\n",
            "      Successfully uninstalled keras-2.11.0\n",
            "  Attempting uninstall: tensorboard\n",
            "    Found existing installation: tensorboard 2.11.2\n",
            "    Uninstalling tensorboard-2.11.2:\n",
            "      Successfully uninstalled tensorboard-2.11.2\n",
            "  Attempting uninstall: tensorflow\n",
            "    Found existing installation: tensorflow 2.11.0\n",
            "    Uninstalling tensorflow-2.11.0:\n",
            "      Successfully uninstalled tensorflow-2.11.0\n",
            "Successfully installed keras-2.8.0 keras-preprocessing-1.1.2 tensorboard-2.8.0 tensorflow-2.8.3 tensorflow-estimator-2.8.0\n"
          ]
        }
      ]
    },
    {
      "cell_type": "code",
      "source": [
        "# check the downgraded version of tf is installed, should print 2.8.3\n",
        "import tensorflow as tf\n",
        "print(tf.__version__)"
      ],
      "metadata": {
        "colab": {
          "base_uri": "https://localhost:8080/"
        },
        "id": "POqcGDy2hROi",
        "outputId": "3e963b8f-8f46-421b-c41c-a3791ac5f41a"
      },
      "execution_count": null,
      "outputs": [
        {
          "output_type": "stream",
          "name": "stdout",
          "text": [
            "2.8.3\n"
          ]
        }
      ]
    },
    {
      "cell_type": "code",
      "execution_count": null,
      "metadata": {
        "colab": {
          "base_uri": "https://localhost:8080/"
        },
        "id": "JmwaitNrSCtr",
        "outputId": "9c2fe94a-1d35-4bb3-e56d-0f506d67f2c4"
      },
      "outputs": [
        {
          "output_type": "stream",
          "name": "stdout",
          "text": [
            "Mounted at /content/drive\n"
          ]
        }
      ],
      "source": [
        "# Connect GDrive - click yes to all requests\n",
        "from google.colab import drive\n",
        "drive.mount('/content/drive')"
      ]
    },
    {
      "cell_type": "code",
      "source": [
        "# Install autokeras\n",
        "!pip install autokeras"
      ],
      "metadata": {
        "id": "2cTdVA4rSxu1",
        "colab": {
          "base_uri": "https://localhost:8080/"
        },
        "outputId": "d703e88d-722e-4873-8b69-43638e15ac3f"
      },
      "execution_count": null,
      "outputs": [
        {
          "output_type": "stream",
          "name": "stdout",
          "text": [
            "Looking in indexes: https://pypi.org/simple, https://us-python.pkg.dev/colab-wheels/public/simple/\n",
            "Collecting autokeras\n",
            "  Downloading autokeras-1.1.0-py3-none-any.whl (148 kB)\n",
            "\u001b[2K     \u001b[90m━━━━━━━━━━━━━━━━━━━━━━━━━━━━━━━━━━━━━━━\u001b[0m \u001b[32m148.6/148.6 KB\u001b[0m \u001b[31m5.4 MB/s\u001b[0m eta \u001b[36m0:00:00\u001b[0m\n",
            "\u001b[?25hCollecting keras-nlp>=0.4.0\n",
            "  Downloading keras_nlp-0.4.1-py3-none-any.whl (466 kB)\n",
            "\u001b[2K     \u001b[90m━━━━━━━━━━━━━━━━━━━━━━━━━━━━━━━━━━━━━━\u001b[0m \u001b[32m466.8/466.8 KB\u001b[0m \u001b[31m21.6 MB/s\u001b[0m eta \u001b[36m0:00:00\u001b[0m\n",
            "\u001b[?25hCollecting keras-tuner>=1.1.0\n",
            "  Downloading keras_tuner-1.3.0-py3-none-any.whl (167 kB)\n",
            "\u001b[2K     \u001b[90m━━━━━━━━━━━━━━━━━━━━━━━━━━━━━━━━━━━━━━\u001b[0m \u001b[32m167.3/167.3 KB\u001b[0m \u001b[31m21.4 MB/s\u001b[0m eta \u001b[36m0:00:00\u001b[0m\n",
            "\u001b[?25hRequirement already satisfied: tensorflow>=2.8.0 in /usr/local/lib/python3.8/dist-packages (from autokeras) (2.8.3)\n",
            "Requirement already satisfied: packaging in /usr/local/lib/python3.8/dist-packages (from autokeras) (23.0)\n",
            "Requirement already satisfied: pandas in /usr/local/lib/python3.8/dist-packages (from autokeras) (1.3.5)\n",
            "Requirement already satisfied: absl-py in /usr/local/lib/python3.8/dist-packages (from keras-nlp>=0.4.0->autokeras) (1.4.0)\n",
            "Collecting tensorflow-text\n",
            "  Downloading tensorflow_text-2.11.0-cp38-cp38-manylinux_2_17_x86_64.manylinux2014_x86_64.whl (5.8 MB)\n",
            "\u001b[2K     \u001b[90m━━━━━━━━━━━━━━━━━━━━━━━━━━━━━━━━━━━━━━━━\u001b[0m \u001b[32m5.8/5.8 MB\u001b[0m \u001b[31m44.5 MB/s\u001b[0m eta \u001b[36m0:00:00\u001b[0m\n",
            "\u001b[?25hRequirement already satisfied: numpy in /usr/local/lib/python3.8/dist-packages (from keras-nlp>=0.4.0->autokeras) (1.22.4)\n",
            "Requirement already satisfied: requests in /usr/local/lib/python3.8/dist-packages (from keras-tuner>=1.1.0->autokeras) (2.25.1)\n",
            "Requirement already satisfied: ipython in /usr/local/lib/python3.8/dist-packages (from keras-tuner>=1.1.0->autokeras) (7.9.0)\n",
            "Collecting kt-legacy\n",
            "  Downloading kt_legacy-1.0.4-py3-none-any.whl (9.6 kB)\n",
            "Requirement already satisfied: tensorboard<2.9,>=2.8 in /usr/local/lib/python3.8/dist-packages (from tensorflow>=2.8.0->autokeras) (2.8.0)\n",
            "Requirement already satisfied: keras-preprocessing>=1.1.1 in /usr/local/lib/python3.8/dist-packages (from tensorflow>=2.8.0->autokeras) (1.1.2)\n",
            "Requirement already satisfied: six>=1.12.0 in /usr/local/lib/python3.8/dist-packages (from tensorflow>=2.8.0->autokeras) (1.15.0)\n",
            "Requirement already satisfied: opt-einsum>=2.3.2 in /usr/local/lib/python3.8/dist-packages (from tensorflow>=2.8.0->autokeras) (3.3.0)\n",
            "Requirement already satisfied: typing-extensions>=3.6.6 in /usr/local/lib/python3.8/dist-packages (from tensorflow>=2.8.0->autokeras) (4.5.0)\n",
            "Requirement already satisfied: h5py>=2.9.0 in /usr/local/lib/python3.8/dist-packages (from tensorflow>=2.8.0->autokeras) (3.1.0)\n",
            "Requirement already satisfied: google-pasta>=0.1.1 in /usr/local/lib/python3.8/dist-packages (from tensorflow>=2.8.0->autokeras) (0.2.0)\n",
            "Requirement already satisfied: protobuf<3.20,>=3.9.2 in /usr/local/lib/python3.8/dist-packages (from tensorflow>=2.8.0->autokeras) (3.19.6)\n",
            "Requirement already satisfied: gast>=0.2.1 in /usr/local/lib/python3.8/dist-packages (from tensorflow>=2.8.0->autokeras) (0.4.0)\n",
            "Requirement already satisfied: setuptools in /usr/local/lib/python3.8/dist-packages (from tensorflow>=2.8.0->autokeras) (57.4.0)\n",
            "Requirement already satisfied: flatbuffers>=1.12 in /usr/local/lib/python3.8/dist-packages (from tensorflow>=2.8.0->autokeras) (23.1.21)\n",
            "Requirement already satisfied: keras<2.9,>=2.8.0rc0 in /usr/local/lib/python3.8/dist-packages (from tensorflow>=2.8.0->autokeras) (2.8.0)\n",
            "Requirement already satisfied: wrapt>=1.11.0 in /usr/local/lib/python3.8/dist-packages (from tensorflow>=2.8.0->autokeras) (1.15.0)\n",
            "Requirement already satisfied: tensorflow-io-gcs-filesystem>=0.23.1 in /usr/local/lib/python3.8/dist-packages (from tensorflow>=2.8.0->autokeras) (0.31.0)\n",
            "Requirement already satisfied: grpcio<2.0,>=1.24.3 in /usr/local/lib/python3.8/dist-packages (from tensorflow>=2.8.0->autokeras) (1.51.3)\n",
            "Requirement already satisfied: libclang>=9.0.1 in /usr/local/lib/python3.8/dist-packages (from tensorflow>=2.8.0->autokeras) (15.0.6.1)\n",
            "Requirement already satisfied: astunparse>=1.6.0 in /usr/local/lib/python3.8/dist-packages (from tensorflow>=2.8.0->autokeras) (1.6.3)\n",
            "Requirement already satisfied: tensorflow-estimator<2.9,>=2.8 in /usr/local/lib/python3.8/dist-packages (from tensorflow>=2.8.0->autokeras) (2.8.0)\n",
            "Requirement already satisfied: termcolor>=1.1.0 in /usr/local/lib/python3.8/dist-packages (from tensorflow>=2.8.0->autokeras) (2.2.0)\n",
            "Requirement already satisfied: python-dateutil>=2.7.3 in /usr/local/lib/python3.8/dist-packages (from pandas->autokeras) (2.8.2)\n",
            "Requirement already satisfied: pytz>=2017.3 in /usr/local/lib/python3.8/dist-packages (from pandas->autokeras) (2022.7.1)\n",
            "Requirement already satisfied: wheel<1.0,>=0.23.0 in /usr/local/lib/python3.8/dist-packages (from astunparse>=1.6.0->tensorflow>=2.8.0->autokeras) (0.38.4)\n",
            "Requirement already satisfied: werkzeug>=0.11.15 in /usr/local/lib/python3.8/dist-packages (from tensorboard<2.9,>=2.8->tensorflow>=2.8.0->autokeras) (2.2.3)\n",
            "Requirement already satisfied: markdown>=2.6.8 in /usr/local/lib/python3.8/dist-packages (from tensorboard<2.9,>=2.8->tensorflow>=2.8.0->autokeras) (3.4.1)\n",
            "Requirement already satisfied: tensorboard-plugin-wit>=1.6.0 in /usr/local/lib/python3.8/dist-packages (from tensorboard<2.9,>=2.8->tensorflow>=2.8.0->autokeras) (1.8.1)\n",
            "Requirement already satisfied: google-auth<3,>=1.6.3 in /usr/local/lib/python3.8/dist-packages (from tensorboard<2.9,>=2.8->tensorflow>=2.8.0->autokeras) (2.16.1)\n",
            "Requirement already satisfied: tensorboard-data-server<0.7.0,>=0.6.0 in /usr/local/lib/python3.8/dist-packages (from tensorboard<2.9,>=2.8->tensorflow>=2.8.0->autokeras) (0.6.1)\n",
            "Requirement already satisfied: google-auth-oauthlib<0.5,>=0.4.1 in /usr/local/lib/python3.8/dist-packages (from tensorboard<2.9,>=2.8->tensorflow>=2.8.0->autokeras) (0.4.6)\n",
            "Requirement already satisfied: chardet<5,>=3.0.2 in /usr/local/lib/python3.8/dist-packages (from requests->keras-tuner>=1.1.0->autokeras) (4.0.0)\n",
            "Requirement already satisfied: urllib3<1.27,>=1.21.1 in /usr/local/lib/python3.8/dist-packages (from requests->keras-tuner>=1.1.0->autokeras) (1.26.14)\n",
            "Requirement already satisfied: idna<3,>=2.5 in /usr/local/lib/python3.8/dist-packages (from requests->keras-tuner>=1.1.0->autokeras) (2.10)\n",
            "Requirement already satisfied: certifi>=2017.4.17 in /usr/local/lib/python3.8/dist-packages (from requests->keras-tuner>=1.1.0->autokeras) (2022.12.7)\n",
            "Requirement already satisfied: decorator in /usr/local/lib/python3.8/dist-packages (from ipython->keras-tuner>=1.1.0->autokeras) (4.4.2)\n",
            "Requirement already satisfied: traitlets>=4.2 in /usr/local/lib/python3.8/dist-packages (from ipython->keras-tuner>=1.1.0->autokeras) (5.7.1)\n",
            "Requirement already satisfied: pickleshare in /usr/local/lib/python3.8/dist-packages (from ipython->keras-tuner>=1.1.0->autokeras) (0.7.5)\n",
            "Collecting jedi>=0.10\n",
            "  Downloading jedi-0.18.2-py2.py3-none-any.whl (1.6 MB)\n",
            "\u001b[2K     \u001b[90m━━━━━━━━━━━━━━━━━━━━━━━━━━━━━━━━━━━━━━━━\u001b[0m \u001b[32m1.6/1.6 MB\u001b[0m \u001b[31m64.9 MB/s\u001b[0m eta \u001b[36m0:00:00\u001b[0m\n",
            "\u001b[?25hRequirement already satisfied: pexpect in /usr/local/lib/python3.8/dist-packages (from ipython->keras-tuner>=1.1.0->autokeras) (4.8.0)\n",
            "Requirement already satisfied: prompt-toolkit<2.1.0,>=2.0.0 in /usr/local/lib/python3.8/dist-packages (from ipython->keras-tuner>=1.1.0->autokeras) (2.0.10)\n",
            "Requirement already satisfied: backcall in /usr/local/lib/python3.8/dist-packages (from ipython->keras-tuner>=1.1.0->autokeras) (0.2.0)\n",
            "Requirement already satisfied: pygments in /usr/local/lib/python3.8/dist-packages (from ipython->keras-tuner>=1.1.0->autokeras) (2.6.1)\n",
            "Requirement already satisfied: tensorflow-hub>=0.8.0 in /usr/local/lib/python3.8/dist-packages (from tensorflow-text->keras-nlp>=0.4.0->autokeras) (0.12.0)\n",
            "Collecting tensorflow>=2.8.0\n",
            "  Downloading tensorflow-2.11.0-cp38-cp38-manylinux_2_17_x86_64.manylinux2014_x86_64.whl (588.3 MB)\n",
            "\u001b[2K     \u001b[90m━━━━━━━━━━━━━━━━━━━━━━━━━━━━━━━━━━━━━━━\u001b[0m \u001b[32m588.3/588.3 MB\u001b[0m \u001b[31m2.4 MB/s\u001b[0m eta \u001b[36m0:00:00\u001b[0m\n",
            "\u001b[?25hINFO: pip is looking at multiple versions of tensorflow-text to determine which version is compatible with other requirements. This could take a while.\n",
            "Collecting tensorflow-text\n",
            "  Downloading tensorflow_text-2.10.0-cp38-cp38-manylinux_2_17_x86_64.manylinux2014_x86_64.whl (5.9 MB)\n",
            "\u001b[2K     \u001b[90m━━━━━━━━━━━━━━━━━━━━━━━━━━━━━━━━━━━━━━━━\u001b[0m \u001b[32m5.9/5.9 MB\u001b[0m \u001b[31m74.0 MB/s\u001b[0m eta \u001b[36m0:00:00\u001b[0m\n",
            "\u001b[?25hCollecting tensorflow>=2.8.0\n",
            "  Downloading tensorflow-2.10.1-cp38-cp38-manylinux_2_17_x86_64.manylinux2014_x86_64.whl (578.1 MB)\n",
            "\u001b[2K     \u001b[90m━━━━━━━━━━━━━━━━━━━━━━━━━━━━━━━━━━━━━━━\u001b[0m \u001b[32m578.1/578.1 MB\u001b[0m \u001b[31m2.8 MB/s\u001b[0m eta \u001b[36m0:00:00\u001b[0m\n",
            "\u001b[?25h  Downloading tensorflow-2.10.0-cp38-cp38-manylinux_2_17_x86_64.manylinux2014_x86_64.whl (578.1 MB)\n",
            "\u001b[2K     \u001b[90m━━━━━━━━━━━━━━━━━━━━━━━━━━━━━━━━━━━━━━━\u001b[0m \u001b[32m578.1/578.1 MB\u001b[0m \u001b[31m2.5 MB/s\u001b[0m eta \u001b[36m0:00:00\u001b[0m\n",
            "\u001b[?25hCollecting tensorflow-text\n",
            "  Downloading tensorflow_text-2.9.0-cp38-cp38-manylinux_2_17_x86_64.manylinux2014_x86_64.whl (4.6 MB)\n",
            "\u001b[2K     \u001b[90m━━━━━━━━━━━━━━━━━━━━━━━━━━━━━━━━━━━━━━━━\u001b[0m \u001b[32m4.6/4.6 MB\u001b[0m \u001b[31m85.0 MB/s\u001b[0m eta \u001b[36m0:00:00\u001b[0m\n",
            "\u001b[?25hCollecting tensorflow>=2.8.0\n",
            "  Downloading tensorflow-2.9.3-cp38-cp38-manylinux_2_17_x86_64.manylinux2014_x86_64.whl (511.8 MB)\n",
            "\u001b[2K     \u001b[90m━━━━━━━━━━━━━━━━━━━━━━━━━━━━━━━━━━━━━━━\u001b[0m \u001b[32m511.8/511.8 MB\u001b[0m \u001b[31m3.3 MB/s\u001b[0m eta \u001b[36m0:00:00\u001b[0m\n",
            "\u001b[?25h  Downloading tensorflow-2.9.2-cp38-cp38-manylinux_2_17_x86_64.manylinux2014_x86_64.whl (511.8 MB)\n",
            "\u001b[2K     \u001b[90m━━━━━━━━━━━━━━━━━━━━━━━━━━━━━━━━━━━━━━━\u001b[0m \u001b[32m511.8/511.8 MB\u001b[0m \u001b[31m2.9 MB/s\u001b[0m eta \u001b[36m0:00:00\u001b[0m\n",
            "\u001b[?25h  Downloading tensorflow-2.9.1-cp38-cp38-manylinux_2_17_x86_64.manylinux2014_x86_64.whl (511.7 MB)\n",
            "\u001b[2K     \u001b[90m━━━━━━━━━━━━━━━━━━━━━━━━━━━━━━━━━━━━━━━\u001b[0m \u001b[32m511.7/511.7 MB\u001b[0m \u001b[31m3.1 MB/s\u001b[0m eta \u001b[36m0:00:00\u001b[0m\n",
            "\u001b[?25h  Downloading tensorflow-2.9.0-cp38-cp38-manylinux_2_17_x86_64.manylinux2014_x86_64.whl (511.7 MB)\n",
            "\u001b[2K     \u001b[90m━━━━━━━━━━━━━━━━━━━━━━━━━━━━━━━━━━━━━━━\u001b[0m \u001b[32m511.7/511.7 MB\u001b[0m \u001b[31m2.6 MB/s\u001b[0m eta \u001b[36m0:00:00\u001b[0m\n",
            "\u001b[?25hCollecting flatbuffers>=1.12\n",
            "  Downloading flatbuffers-1.12-py2.py3-none-any.whl (15 kB)\n",
            "Collecting tensorflow-text\n",
            "  Downloading tensorflow_text-2.8.2-cp38-cp38-manylinux_2_12_x86_64.manylinux2010_x86_64.whl (4.9 MB)\n",
            "\u001b[2K     \u001b[90m━━━━━━━━━━━━━━━━━━━━━━━━━━━━━━━━━━━━━━━━\u001b[0m \u001b[32m4.9/4.9 MB\u001b[0m \u001b[31m59.5 MB/s\u001b[0m eta \u001b[36m0:00:00\u001b[0m\n",
            "\u001b[?25hRequirement already satisfied: rsa<5,>=3.1.4 in /usr/local/lib/python3.8/dist-packages (from google-auth<3,>=1.6.3->tensorboard<2.9,>=2.8->tensorflow>=2.8.0->autokeras) (4.9)\n",
            "Requirement already satisfied: pyasn1-modules>=0.2.1 in /usr/local/lib/python3.8/dist-packages (from google-auth<3,>=1.6.3->tensorboard<2.9,>=2.8->tensorflow>=2.8.0->autokeras) (0.2.8)\n",
            "Requirement already satisfied: cachetools<6.0,>=2.0.0 in /usr/local/lib/python3.8/dist-packages (from google-auth<3,>=1.6.3->tensorboard<2.9,>=2.8->tensorflow>=2.8.0->autokeras) (5.3.0)\n",
            "Requirement already satisfied: requests-oauthlib>=0.7.0 in /usr/local/lib/python3.8/dist-packages (from google-auth-oauthlib<0.5,>=0.4.1->tensorboard<2.9,>=2.8->tensorflow>=2.8.0->autokeras) (1.3.1)\n",
            "Requirement already satisfied: parso<0.9.0,>=0.8.0 in /usr/local/lib/python3.8/dist-packages (from jedi>=0.10->ipython->keras-tuner>=1.1.0->autokeras) (0.8.3)\n",
            "Requirement already satisfied: importlib-metadata>=4.4 in /usr/local/lib/python3.8/dist-packages (from markdown>=2.6.8->tensorboard<2.9,>=2.8->tensorflow>=2.8.0->autokeras) (6.0.0)\n",
            "Requirement already satisfied: wcwidth in /usr/local/lib/python3.8/dist-packages (from prompt-toolkit<2.1.0,>=2.0.0->ipython->keras-tuner>=1.1.0->autokeras) (0.2.6)\n",
            "Requirement already satisfied: MarkupSafe>=2.1.1 in /usr/local/lib/python3.8/dist-packages (from werkzeug>=0.11.15->tensorboard<2.9,>=2.8->tensorflow>=2.8.0->autokeras) (2.1.2)\n",
            "Requirement already satisfied: ptyprocess>=0.5 in /usr/local/lib/python3.8/dist-packages (from pexpect->ipython->keras-tuner>=1.1.0->autokeras) (0.7.0)\n",
            "Requirement already satisfied: zipp>=0.5 in /usr/local/lib/python3.8/dist-packages (from importlib-metadata>=4.4->markdown>=2.6.8->tensorboard<2.9,>=2.8->tensorflow>=2.8.0->autokeras) (3.15.0)\n",
            "Requirement already satisfied: pyasn1<0.5.0,>=0.4.6 in /usr/local/lib/python3.8/dist-packages (from pyasn1-modules>=0.2.1->google-auth<3,>=1.6.3->tensorboard<2.9,>=2.8->tensorflow>=2.8.0->autokeras) (0.4.8)\n",
            "Requirement already satisfied: oauthlib>=3.0.0 in /usr/local/lib/python3.8/dist-packages (from requests-oauthlib>=0.7.0->google-auth-oauthlib<0.5,>=0.4.1->tensorboard<2.9,>=2.8->tensorflow>=2.8.0->autokeras) (3.2.2)\n",
            "Installing collected packages: kt-legacy, jedi, tensorflow-text, keras-tuner, keras-nlp, autokeras\n",
            "Successfully installed autokeras-1.1.0 jedi-0.18.2 keras-nlp-0.4.1 keras-tuner-1.3.0 kt-legacy-1.0.4 tensorflow-text-2.8.2\n"
          ]
        }
      ]
    },
    {
      "cell_type": "code",
      "source": [
        "# set paths to where audio is saved\n",
        "train_dir = \"/content/drive/MyDrive/bombs/data/final_dataset/train_data/\" #make sure ends in '/'\n",
        "test_dir = \"/content/drive/MyDrive/bombs/data/final_dataset/test_data/\"\n",
        "pickle_file_dir = \"/content/drive/MyDrive/bombs/data/final_dataset/\"\n",
        "\n",
        "# enter sample rate of audio (sample rate, not freq range in file)\n",
        "sample_rate = 8000"
      ],
      "metadata": {
        "id": "nl0Sql8ZWg16"
      },
      "execution_count": null,
      "outputs": []
    },
    {
      "cell_type": "code",
      "source": [
        "# tensorflow imports\n",
        "from tensorflow.keras import datasets, layers, models\n",
        "from tensorflow.keras.callbacks import ModelCheckpoint\n",
        "import keras\n",
        "\n",
        "# autokeras imports\n",
        "import autokeras\n",
        "import keras_tuner\n",
        "\n",
        "# scikit learn functions\n",
        "from sklearn.model_selection import train_test_split\n",
        "from sklearn.preprocessing import StandardScaler\n",
        "from sklearn.metrics import confusion_matrix\n",
        "\n",
        "# general imports\n",
        "import numpy as np # handling arrays\n",
        "import pandas as pd # exporting csv predictions\n",
        "import random # setting seed \n",
        "import os # accessing directories\n",
        "from datetime import datetime # time stamping output files\n",
        "import pickle # for reading training data\n",
        "\n",
        "# set seed for reproducable results\n",
        "seed = 123\n",
        "np.random.seed(seed)\n",
        "tf.random.set_seed(seed)"
      ],
      "metadata": {
        "id": "6ylY72TgfD_G"
      },
      "execution_count": null,
      "outputs": []
    },
    {
      "cell_type": "markdown",
      "source": [
        "# Load dataset\n",
        "\n",
        "Pickle files of mfcc specs, labels and input shapes for the network were saved for the training and test sets. Load these. "
      ],
      "metadata": {
        "id": "r-qlXNs1_vtI"
      }
    },
    {
      "cell_type": "code",
      "source": [
        "# find the training file\n",
        "pickle_file_name = \"train_features_labels.pickle\"\n",
        "pickle_file_path = os.path.join(pickle_file_dir, pickle_file_name)\n",
        "\n",
        "# Load the pickle file\n",
        "with open(pickle_file_path, 'rb') as f:\n",
        "    train_features, train_labels, input_shape = pickle.load(f)\n",
        "\n",
        "# print index of bombs\n",
        "print('Number of samples: ' + str(len(train_labels)))\n",
        "print()\n",
        "print('Input shape for network: ' + str(input_shape))\n",
        "print()\n",
        "print('Number of bomb files: ' + str(len((np.where(train_labels == 1))[0])))"
      ],
      "metadata": {
        "id": "_fQJ2_6DVsR0",
        "colab": {
          "base_uri": "https://localhost:8080/"
        },
        "outputId": "3cebd878-e997-4d1d-a875-032352a218bf"
      },
      "execution_count": null,
      "outputs": [
        {
          "output_type": "stream",
          "name": "stdout",
          "text": [
            "Number of samples: 18780\n",
            "\n",
            "Input shape for network: (32, 46, 1)\n",
            "\n",
            "Number of bomb files: 1780\n"
          ]
        }
      ]
    },
    {
      "cell_type": "code",
      "source": [
        "# find the test file\n",
        "pickle_file_name = \"test_features_labels.pickle\"\n",
        "pickle_file_path = os.path.join(pickle_file_dir, pickle_file_name)\n",
        "\n",
        "# Load the pickle file\n",
        "with open(pickle_file_path, 'rb') as f:\n",
        "    test_features, test_labels, input_shape = pickle.load(f)\n",
        "\n",
        "# print index of bombs\n",
        "print('Number of samples: ' + str(len(test_labels)))\n",
        "print()\n",
        "print('Input shape for network: ' + str(input_shape))\n",
        "print()\n",
        "print('Number of bomb files: ' + str(len((np.where(test_labels == 1))[0])))"
      ],
      "metadata": {
        "id": "tZplMvfyVsZJ",
        "colab": {
          "base_uri": "https://localhost:8080/"
        },
        "outputId": "099a42a1-666b-4857-e4f6-6ec0f59fa92f"
      },
      "execution_count": null,
      "outputs": [
        {
          "output_type": "stream",
          "name": "stdout",
          "text": [
            "Number of samples: 1250\n",
            "\n",
            "Input shape for network: (32, 46, 1)\n",
            "\n",
            "Number of bomb files: 250\n"
          ]
        }
      ]
    },
    {
      "cell_type": "markdown",
      "source": [
        "## Set model bias\n",
        "\n",
        "There are approx. 10x more non bomb files than bomb files, so quantify this difference. This value is given to the network so it will bias its learning at this ratio."
      ],
      "metadata": {
        "id": "pt91A6SgaE2m"
      }
    },
    {
      "cell_type": "code",
      "source": [
        "pos = len(np.where(train_labels == 1)[0])\n",
        "neg = len(np.where(train_labels == 0)[0])\n",
        "\n",
        "# count the ratio of bombs to no bombs\n",
        "total = neg + pos\n",
        "print('Examples:\\n    Total: {}\\n    Positive: {} ({:.2f}% of total)\\n'.format(\n",
        "    total, pos, 100 * pos / total))\n",
        "\n",
        "# Scaling by total/2 helps keep the loss to a similar magnitude.\n",
        "# The sum of the weights of all examples stays the same.\n",
        "weight_for_0 = (1 / neg) * (total / 2.0)\n",
        "weight_for_1 = (1 / pos) * (total / 2.0)\n",
        "\n",
        "class_weight = {0: weight_for_0, 1: weight_for_1}\n",
        "\n",
        "print('Weight for class 0: {:.2f}'.format(weight_for_0))\n",
        "print('Weight for class 1: {:.2f}'.format(weight_for_1))"
      ],
      "metadata": {
        "colab": {
          "base_uri": "https://localhost:8080/"
        },
        "id": "q0nE5BhQcHu7",
        "outputId": "8882c79d-5d52-4316-ba3c-bd2ec6671f6b"
      },
      "execution_count": null,
      "outputs": [
        {
          "output_type": "stream",
          "name": "stdout",
          "text": [
            "Examples:\n",
            "    Total: 18780\n",
            "    Positive: 1780 (9.48% of total)\n",
            "\n",
            "Weight for class 0: 0.55\n",
            "Weight for class 1: 5.28\n"
          ]
        }
      ]
    },
    {
      "cell_type": "markdown",
      "source": [
        "# **Train classifier**\n",
        "\n",
        "## Set up:\n",
        "1. Create validation data\n",
        "2. Set some parameters and performance metrics of the model\n",
        "3. Set early stopping, tensorboard and model saving callbacks\n",
        "\n"
      ],
      "metadata": {
        "id": "nJjy-SANqPan"
      }
    },
    {
      "cell_type": "code",
      "source": [
        "# Split the data into training and validation sets\n",
        "train_features, val_features, train_labels, val_labels = train_test_split(train_features, train_labels, test_size=0.15, random_state=123)\n",
        "\n",
        "# Set max epochs and batch size\n",
        "EPOCHS = 100 # max number of epochs for any model\n",
        "BATCH_SIZE = 128 # 256 caused OOM error on colab\n",
        "MAX_TRIALS = 50 # how many models autokeras will try\n",
        "MAX_MODEL_SIZE = 1000000\n",
        "\n",
        "# Mertics that will be reported\n",
        "METRICS = [\n",
        "      keras.metrics.TruePositives(name='tp'),\n",
        "      keras.metrics.FalsePositives(name='fp'),\n",
        "      keras.metrics.TrueNegatives(name='tn'),\n",
        "      keras.metrics.FalseNegatives(name='fn'), \n",
        "      keras.metrics.BinaryAccuracy(name='accuracy'),\n",
        "      keras.metrics.Precision(name='precision'),\n",
        "      keras.metrics.Recall(name='recall'),\n",
        "      keras.metrics.AUC(name='auc'),\n",
        "      keras.metrics.AUC(name='prc', curve='PR'), # curve is set to precision-recall curve, not ROC\n",
        "]\n",
        "\n",
        "# Early stopping\n",
        "early_stopping = tf.keras.callbacks.EarlyStopping(\n",
        "    monitor='val_prc', # metric it will monitor to stop training\n",
        "    verbose=1,\n",
        "    patience=10,\n",
        "    mode='max',\n",
        "    restore_best_weights=True)\n",
        "\n",
        "# for tensorboard\n",
        "logdir = os.path.join(\"logs\", datetime.now().strftime(\"%Y%m%d-%H%M%S\"))\n",
        "tensorboard_callback = tf.keras.callbacks.TensorBoard(logdir, histogram_freq=1)"
      ],
      "metadata": {
        "id": "LkjrEI2WDCCL"
      },
      "execution_count": null,
      "outputs": []
    },
    {
      "cell_type": "markdown",
      "source": [
        "## Define the model search space to test out\n",
        "\n",
        "1. We define a model space that should be tested\n",
        "2. We set some params, such as the max model size (keeping below 1mil params means it will run quicker at inference), metric to optimise against, where to save model etc\n",
        "\n",
        "\n"
      ],
      "metadata": {
        "id": "7izE0PhlMCgU"
      }
    },
    {
      "cell_type": "code",
      "source": [
        "# Define the model space\n",
        "# Input layer\n",
        "image_input = autokeras.ImageInput()\n",
        "\n",
        "# Conv layers - autokeras will test num layers, kernel size and count, whether to add max pooling and dropout\n",
        "conv_layers = autokeras.ConvBlock()(image_input)\n",
        "\n",
        "# Dense layers - autokeras will test out num and width of dense layers\n",
        "dense_layers = autokeras.DenseBlock(use_batchnorm=False)(conv_layers)\n",
        "\n",
        "# Output node - we set up loss, classes and other params\n",
        "classification_head = autokeras.ClassificationHead(\n",
        "    num_classes=1, \n",
        "    multi_label=False, \n",
        "    loss=\"binary_crossentropy\", \n",
        "    metrics=METRICS, \n",
        "    dropout=None # would like to implement bias initializer but haven't figured this out\n",
        ")(dense_layers)\n",
        "\n",
        "\n",
        "# Build the model\n",
        "clf = autokeras.AutoModel(\n",
        "    inputs=image_input, outputs=classification_head, \n",
        "    objective = keras_tuner.Objective(\"val_prc\", direction=\"max\"),\n",
        "    tuner = 'greedy', # using other tuners causes bugs when max_model_size is set\n",
        "    max_model_size = MAX_MODEL_SIZE,\n",
        "    max_trials = MAX_TRIALS,\n",
        "    seed = seed,\n",
        "    directory = pickle_file_dir, # where to save the best model\n",
        "    overwrite = True, \n",
        "    project_name=\"autokeras_model_friday\")"
      ],
      "metadata": {
        "id": "nh9IvVgyX8AF"
      },
      "execution_count": null,
      "outputs": []
    },
    {
      "cell_type": "markdown",
      "source": [
        "## Start autokeras\n",
        "\n",
        "This will now search for the best architecture and hyperparameters for our problem by training as many models as our MAX_TRIALS param and it will output the best one - this is the longest stage in the whole process."
      ],
      "metadata": {
        "id": "naJ3e81VY6jZ"
      }
    },
    {
      "cell_type": "code",
      "source": [
        "# train the model\n",
        "clf.fit(train_features, train_labels, \n",
        "        epochs=EPOCHS, \n",
        "        batch_size=BATCH_SIZE, \n",
        "        callbacks=[early_stopping], \n",
        "        #validation_split=0.15, # trains for extra run at end if using this, see: https://github.com/keras-team/autokeras/discussions/1344\n",
        "        validation_data = (val_features, val_labels),\n",
        "        class_weight = class_weight)"
      ],
      "metadata": {
        "colab": {
          "base_uri": "https://localhost:8080/"
        },
        "id": "omc7xzYsMCSM",
        "outputId": "e9b601e9-f9ea-4758-e6aa-b14cb9926e71"
      },
      "execution_count": null,
      "outputs": [
        {
          "output_type": "stream",
          "name": "stdout",
          "text": [
            "Trial 50 Complete [00h 01m 31s]\n",
            "val_prc: 0.9908091425895691\n",
            "\n",
            "Best val_prc So Far: 0.9976235628128052\n",
            "Total elapsed time: 01h 43m 28s\n"
          ]
        },
        {
          "output_type": "stream",
          "name": "stderr",
          "text": [
            "WARNING:tensorflow:Compiled the loaded model, but the compiled metrics have yet to be built. `model.compile_metrics` will be empty until you train or evaluate the model.\n",
            "WARNING:tensorflow:Detecting that an object or model or tf.train.Checkpoint is being deleted with unrestored values. See the following logs for the specific values in question. To silence these warnings, use `status.expect_partial()`. See https://www.tensorflow.org/api_docs/python/tf/train/Checkpoint#restorefor details about the status object returned by the restore function.\n",
            "WARNING:tensorflow:Value in checkpoint could not be found in the restored object: (root).optimizer.iter\n",
            "WARNING:tensorflow:Value in checkpoint could not be found in the restored object: (root).optimizer.beta_1\n",
            "WARNING:tensorflow:Value in checkpoint could not be found in the restored object: (root).optimizer.beta_2\n",
            "WARNING:tensorflow:Value in checkpoint could not be found in the restored object: (root).optimizer.decay\n",
            "WARNING:tensorflow:Value in checkpoint could not be found in the restored object: (root).optimizer.learning_rate\n"
          ]
        }
      ]
    },
    {
      "cell_type": "markdown",
      "source": [
        "## Export best model\n",
        "\n",
        "This returns the best model architecture as the object 'best_model'. \n",
        "\n",
        "Print a summary of the architecture"
      ],
      "metadata": {
        "id": "crVL0ulnbSDb"
      }
    },
    {
      "cell_type": "code",
      "source": [
        "best_model = clf.export_model()\n",
        "print(best_model.summary())"
      ],
      "metadata": {
        "id": "eJ0C0NQ22Lfm",
        "colab": {
          "base_uri": "https://localhost:8080/"
        },
        "outputId": "fa362582-5f54-4e4d-d285-c32a12a717e3"
      },
      "execution_count": null,
      "outputs": [
        {
          "output_type": "stream",
          "name": "stdout",
          "text": [
            "Model: \"model\"\n",
            "_________________________________________________________________\n",
            " Layer (type)                Output Shape              Param #   \n",
            "=================================================================\n",
            " input_1 (InputLayer)        [(None, 32, 46, 1)]       0         \n",
            "                                                                 \n",
            " cast_to_float32 (CastToFloa  (None, 32, 46, 1)        0         \n",
            " t32)                                                            \n",
            "                                                                 \n",
            " conv2d (Conv2D)             (None, 30, 44, 32)        320       \n",
            "                                                                 \n",
            " conv2d_1 (Conv2D)           (None, 28, 42, 32)        9248      \n",
            "                                                                 \n",
            " max_pooling2d (MaxPooling2D  (None, 14, 21, 32)       0         \n",
            " )                                                               \n",
            "                                                                 \n",
            " dropout (Dropout)           (None, 14, 21, 32)        0         \n",
            "                                                                 \n",
            " conv2d_2 (Conv2D)           (None, 12, 19, 32)        9248      \n",
            "                                                                 \n",
            " conv2d_3 (Conv2D)           (None, 10, 17, 512)       147968    \n",
            "                                                                 \n",
            " max_pooling2d_1 (MaxPooling  (None, 5, 8, 512)        0         \n",
            " 2D)                                                             \n",
            "                                                                 \n",
            " dropout_1 (Dropout)         (None, 5, 8, 512)         0         \n",
            "                                                                 \n",
            " flatten (Flatten)           (None, 20480)             0         \n",
            "                                                                 \n",
            " dense (Dense)               (None, 32)                655392    \n",
            "                                                                 \n",
            " re_lu (ReLU)                (None, 32)                0         \n",
            "                                                                 \n",
            " dropout_2 (Dropout)         (None, 32)                0         \n",
            "                                                                 \n",
            " dense_1 (Dense)             (None, 256)               8448      \n",
            "                                                                 \n",
            " re_lu_1 (ReLU)              (None, 256)               0         \n",
            "                                                                 \n",
            " dropout_3 (Dropout)         (None, 256)               0         \n",
            "                                                                 \n",
            " dense_2 (Dense)             (None, 1)                 257       \n",
            "                                                                 \n",
            " classification_head_1 (Acti  (None, 1)                0         \n",
            " vation)                                                         \n",
            "                                                                 \n",
            "=================================================================\n",
            "Total params: 830,881\n",
            "Trainable params: 830,881\n",
            "Non-trainable params: 0\n",
            "_________________________________________________________________\n",
            "None\n"
          ]
        }
      ]
    },
    {
      "cell_type": "markdown",
      "source": [
        "## OPTIONAL - Train a final model using the autokeras output\n",
        "\n",
        "Autokeras documentation appears to recommend retraining the best_model to get a final model used. This also enables training history to be observed so we can check this history (i.e to see model training plateaus) and compare train v val performance.\n",
        "\n",
        "However, this model never delivered a performance on the val or test data that was as good as the autokeras model. Have therefore used this final autokeras model instead, the only sacrifice here is training history. Early stopping was implemented so as long as performance is good then this is okay for our purposes.\n",
        "\n",
        "Issues\n",
        "1. Printing the model summary shows the architecture (conv layers, pooling, dense layers, dropout ect). But, the autokeras docomentation is not clear on how to view hyperparams used such as learning rate and optimiser. However, by observing the model finder cell (which does print these) over several runs these were consistantly 0.001 and adam respectively.\n",
        "2. In training, there is a bug where 'val_prc did not improve from ...' will be printed, but the '...' values appears no where in the model training run. However, early stopping appears to working correctly if you look at the val_prc value - taining stops 10 epochs after the best run and 'Restoring model weights from the end of the best epoch: ...' is printed."
      ],
      "metadata": {
        "id": "VvDHl05AgZ47"
      }
    },
    {
      "cell_type": "code",
      "source": [
        "from tensorflow.keras.models import load_model\n",
        "\n",
        "# load the best autokeras model\n",
        "best_autokeras_model_path = \"/content/drive/MyDrive/bombs/data/final_dataset/autokeras_best_model/best_model\" #may need to change path to where the best_model was saved\n",
        "best_autokeras_model = load_model(best_autokeras_model_path)"
      ],
      "metadata": {
        "id": "HZ2_Z1GcCi4q"
      },
      "execution_count": null,
      "outputs": []
    },
    {
      "cell_type": "code",
      "source": [
        "# Set path where the final_model checkpoint files will be saved (shouldn't need editing if you set paths at the beginning)\n",
        "checkpoint_path = pickle_file_dir + 'model_checkpoints_sunday'\n",
        "print(\"Will save model checkpoint files to: \" + checkpoint_path)\n",
        "\n",
        "# callback to save model\n",
        "save_model = ModelCheckpoint(filepath = checkpoint_path,\n",
        "                              monitor = \"val_prc\",\n",
        "                              save_best_only = True,\n",
        "                              verbose = 1)"
      ],
      "metadata": {
        "id": "Ughb6R538rNv",
        "colab": {
          "base_uri": "https://localhost:8080/"
        },
        "outputId": "ab619289-1afd-4a16-be8f-d0e6957d8020"
      },
      "execution_count": null,
      "outputs": [
        {
          "output_type": "stream",
          "name": "stdout",
          "text": [
            "Will save model checkpoint files to: /content/drive/MyDrive/bombs/data/final_dataset/model_checkpoints_sunday\n"
          ]
        }
      ]
    },
    {
      "cell_type": "code",
      "source": [
        "# compile the final model\n",
        "best_autokeras_model.compile(tf.keras.optimizers.Adam(learning_rate=0.001),\n",
        "              loss='binary_crossentropy', \n",
        "              metrics=METRICS)\n",
        "\n",
        "# retrain the autokeras best model to get a final trained model, save the history\n",
        "final_model_history = best_autokeras_model.fit(train_features, train_labels, \n",
        "        epochs=EPOCHS, \n",
        "        batch_size=BATCH_SIZE, \n",
        "        callbacks=[early_stopping, save_model, tensorboard_callback], \n",
        "        #validation_split=0.15, # trains for extra run at end if using this, see: https://github.com/keras-team/autokeras/discussions/1344\n",
        "        validation_data = (val_features, val_labels),\n",
        "        class_weight = class_weight)"
      ],
      "metadata": {
        "id": "1Z6aZ1VVuEgI",
        "colab": {
          "base_uri": "https://localhost:8080/"
        },
        "outputId": "2f4da2b0-f84d-4636-d463-d26daf9f20c1"
      },
      "execution_count": null,
      "outputs": [
        {
          "output_type": "stream",
          "name": "stdout",
          "text": [
            "Epoch 1/100\n",
            "125/125 [==============================] - ETA: 0s - loss: 0.0519 - tp: 1487.0000 - fp: 193.0000 - tn: 14254.0000 - fn: 29.0000 - accuracy: 0.9861 - precision: 0.8851 - recall: 0.9809 - auc: 0.9974 - prc: 0.9817\n",
            "Epoch 1: val_prc improved from inf to 0.99715, saving model to /content/drive/MyDrive/bombs/data/final_dataset/model_checkpoints_sunday\n",
            "125/125 [==============================] - 18s 63ms/step - loss: 0.0519 - tp: 1487.0000 - fp: 193.0000 - tn: 14254.0000 - fn: 29.0000 - accuracy: 0.9861 - precision: 0.8851 - recall: 0.9809 - auc: 0.9974 - prc: 0.9817 - val_loss: 0.0213 - val_tp: 262.0000 - val_fp: 19.0000 - val_tn: 2534.0000 - val_fn: 2.0000 - val_accuracy: 0.9925 - val_precision: 0.9324 - val_recall: 0.9924 - val_auc: 0.9997 - val_prc: 0.9971\n",
            "Epoch 2/100\n",
            "124/125 [============================>.] - ETA: 0s - loss: 0.0669 - tp: 1469.0000 - fp: 221.0000 - tn: 14147.0000 - fn: 35.0000 - accuracy: 0.9839 - precision: 0.8692 - recall: 0.9767 - auc: 0.9956 - prc: 0.9736\n",
            "Epoch 2: val_prc improved from 0.99715 to 0.99045, saving model to /content/drive/MyDrive/bombs/data/final_dataset/model_checkpoints_sunday\n",
            "125/125 [==============================] - 5s 36ms/step - loss: 0.0666 - tp: 1481.0000 - fp: 221.0000 - tn: 14226.0000 - fn: 35.0000 - accuracy: 0.9840 - precision: 0.8702 - recall: 0.9769 - auc: 0.9956 - prc: 0.9738 - val_loss: 0.0372 - val_tp: 260.0000 - val_fp: 32.0000 - val_tn: 2521.0000 - val_fn: 4.0000 - val_accuracy: 0.9872 - val_precision: 0.8904 - val_recall: 0.9848 - val_auc: 0.9989 - val_prc: 0.9904\n",
            "Epoch 3/100\n",
            "123/125 [============================>.] - ETA: 0s - loss: 0.0501 - tp: 1473.0000 - fp: 181.0000 - tn: 14063.0000 - fn: 27.0000 - accuracy: 0.9868 - precision: 0.8906 - recall: 0.9820 - auc: 0.9975 - prc: 0.9849\n",
            "Epoch 3: val_prc did not improve from 0.99045\n",
            "125/125 [==============================] - 3s 21ms/step - loss: 0.0499 - tp: 1488.0000 - fp: 181.0000 - tn: 14266.0000 - fn: 28.0000 - accuracy: 0.9869 - precision: 0.8916 - recall: 0.9815 - auc: 0.9975 - prc: 0.9850 - val_loss: 0.0222 - val_tp: 262.0000 - val_fp: 14.0000 - val_tn: 2539.0000 - val_fn: 2.0000 - val_accuracy: 0.9943 - val_precision: 0.9493 - val_recall: 0.9924 - val_auc: 0.9992 - val_prc: 0.9964\n",
            "Epoch 4/100\n",
            "125/125 [==============================] - ETA: 0s - loss: 0.0615 - tp: 1490.0000 - fp: 244.0000 - tn: 14203.0000 - fn: 26.0000 - accuracy: 0.9831 - precision: 0.8593 - recall: 0.9828 - auc: 0.9961 - prc: 0.9731\n",
            "Epoch 4: val_prc did not improve from 0.99045\n",
            "125/125 [==============================] - 3s 27ms/step - loss: 0.0615 - tp: 1490.0000 - fp: 244.0000 - tn: 14203.0000 - fn: 26.0000 - accuracy: 0.9831 - precision: 0.8593 - recall: 0.9828 - auc: 0.9961 - prc: 0.9731 - val_loss: 0.0454 - val_tp: 262.0000 - val_fp: 37.0000 - val_tn: 2516.0000 - val_fn: 2.0000 - val_accuracy: 0.9862 - val_precision: 0.8763 - val_recall: 0.9924 - val_auc: 0.9995 - val_prc: 0.9936\n",
            "Epoch 5/100\n",
            "125/125 [==============================] - ETA: 0s - loss: 0.0637 - tp: 1481.0000 - fp: 247.0000 - tn: 14200.0000 - fn: 35.0000 - accuracy: 0.9823 - precision: 0.8571 - recall: 0.9769 - auc: 0.9965 - prc: 0.9774\n",
            "Epoch 5: val_prc did not improve from 0.99045\n",
            "125/125 [==============================] - 3s 26ms/step - loss: 0.0637 - tp: 1481.0000 - fp: 247.0000 - tn: 14200.0000 - fn: 35.0000 - accuracy: 0.9823 - precision: 0.8571 - recall: 0.9769 - auc: 0.9965 - prc: 0.9774 - val_loss: 0.0250 - val_tp: 259.0000 - val_fp: 17.0000 - val_tn: 2536.0000 - val_fn: 5.0000 - val_accuracy: 0.9922 - val_precision: 0.9384 - val_recall: 0.9811 - val_auc: 0.9992 - val_prc: 0.9945\n",
            "Epoch 6/100\n",
            "122/125 [============================>.] - ETA: 0s - loss: 0.0479 - tp: 1452.0000 - fp: 143.0000 - tn: 13994.0000 - fn: 27.0000 - accuracy: 0.9891 - precision: 0.9103 - recall: 0.9817 - auc: 0.9979 - prc: 0.9862\n",
            "Epoch 6: val_prc did not improve from 0.99045\n",
            "125/125 [==============================] - 3s 21ms/step - loss: 0.0483 - tp: 1488.0000 - fp: 145.0000 - tn: 14302.0000 - fn: 28.0000 - accuracy: 0.9892 - precision: 0.9112 - recall: 0.9815 - auc: 0.9979 - prc: 0.9863 - val_loss: 0.0249 - val_tp: 264.0000 - val_fp: 21.0000 - val_tn: 2532.0000 - val_fn: 0.0000e+00 - val_accuracy: 0.9925 - val_precision: 0.9263 - val_recall: 1.0000 - val_auc: 0.9999 - val_prc: 0.9988\n",
            "Epoch 7/100\n",
            "125/125 [==============================] - ETA: 0s - loss: 0.0564 - tp: 1486.0000 - fp: 193.0000 - tn: 14254.0000 - fn: 30.0000 - accuracy: 0.9860 - precision: 0.8851 - recall: 0.9802 - auc: 0.9970 - prc: 0.9758\n",
            "Epoch 7: val_prc did not improve from 0.99045\n",
            "125/125 [==============================] - 3s 20ms/step - loss: 0.0564 - tp: 1486.0000 - fp: 193.0000 - tn: 14254.0000 - fn: 30.0000 - accuracy: 0.9860 - precision: 0.8851 - recall: 0.9802 - auc: 0.9970 - prc: 0.9758 - val_loss: 0.0491 - val_tp: 262.0000 - val_fp: 32.0000 - val_tn: 2521.0000 - val_fn: 2.0000 - val_accuracy: 0.9879 - val_precision: 0.8912 - val_recall: 0.9924 - val_auc: 0.9994 - val_prc: 0.9926\n",
            "Epoch 8/100\n",
            "123/125 [============================>.] - ETA: 0s - loss: 0.0452 - tp: 1475.0000 - fp: 162.0000 - tn: 14082.0000 - fn: 25.0000 - accuracy: 0.9881 - precision: 0.9010 - recall: 0.9833 - auc: 0.9981 - prc: 0.9858\n",
            "Epoch 8: val_prc did not improve from 0.99045\n",
            "125/125 [==============================] - 3s 21ms/step - loss: 0.0456 - tp: 1490.0000 - fp: 166.0000 - tn: 14281.0000 - fn: 26.0000 - accuracy: 0.9880 - precision: 0.8998 - recall: 0.9828 - auc: 0.9981 - prc: 0.9857 - val_loss: 0.0222 - val_tp: 260.0000 - val_fp: 13.0000 - val_tn: 2540.0000 - val_fn: 4.0000 - val_accuracy: 0.9940 - val_precision: 0.9524 - val_recall: 0.9848 - val_auc: 0.9996 - val_prc: 0.9966\n",
            "Epoch 9/100\n",
            "124/125 [============================>.] - ETA: 0s - loss: 0.0380 - tp: 1486.0000 - fp: 152.0000 - tn: 14213.0000 - fn: 21.0000 - accuracy: 0.9891 - precision: 0.9072 - recall: 0.9861 - auc: 0.9988 - prc: 0.9869\n",
            "Epoch 9: val_prc did not improve from 0.99045\n",
            "125/125 [==============================] - 3s 21ms/step - loss: 0.0383 - tp: 1495.0000 - fp: 157.0000 - tn: 14290.0000 - fn: 21.0000 - accuracy: 0.9888 - precision: 0.9050 - recall: 0.9861 - auc: 0.9987 - prc: 0.9862 - val_loss: 0.0594 - val_tp: 264.0000 - val_fp: 52.0000 - val_tn: 2501.0000 - val_fn: 0.0000e+00 - val_accuracy: 0.9815 - val_precision: 0.8354 - val_recall: 1.0000 - val_auc: 0.9995 - val_prc: 0.9935\n",
            "Epoch 10/100\n",
            "125/125 [==============================] - ETA: 0s - loss: 0.0530 - tp: 1488.0000 - fp: 178.0000 - tn: 14269.0000 - fn: 28.0000 - accuracy: 0.9871 - precision: 0.8932 - recall: 0.9815 - auc: 0.9969 - prc: 0.9797\n",
            "Epoch 10: val_prc did not improve from 0.99045\n",
            "125/125 [==============================] - 3s 27ms/step - loss: 0.0530 - tp: 1488.0000 - fp: 178.0000 - tn: 14269.0000 - fn: 28.0000 - accuracy: 0.9871 - precision: 0.8932 - recall: 0.9815 - auc: 0.9969 - prc: 0.9797 - val_loss: 0.0653 - val_tp: 264.0000 - val_fp: 46.0000 - val_tn: 2507.0000 - val_fn: 0.0000e+00 - val_accuracy: 0.9837 - val_precision: 0.8516 - val_recall: 1.0000 - val_auc: 0.9996 - val_prc: 0.9938\n",
            "Epoch 11/100\n",
            "125/125 [==============================] - ETA: 0s - loss: 0.0455 - tp: 1492.0000 - fp: 170.0000 - tn: 14277.0000 - fn: 24.0000 - accuracy: 0.9878 - precision: 0.8977 - recall: 0.9842 - auc: 0.9983 - prc: 0.9862\n",
            "Epoch 11: val_prc did not improve from 0.99045\n",
            "125/125 [==============================] - 3s 25ms/step - loss: 0.0455 - tp: 1492.0000 - fp: 170.0000 - tn: 14277.0000 - fn: 24.0000 - accuracy: 0.9878 - precision: 0.8977 - recall: 0.9842 - auc: 0.9983 - prc: 0.9862 - val_loss: 0.0281 - val_tp: 264.0000 - val_fp: 24.0000 - val_tn: 2529.0000 - val_fn: 0.0000e+00 - val_accuracy: 0.9915 - val_precision: 0.9167 - val_recall: 1.0000 - val_auc: 0.9998 - val_prc: 0.9984\n",
            "Epoch 12/100\n",
            "124/125 [============================>.] - ETA: 0s - loss: 0.0445 - tp: 1482.0000 - fp: 178.0000 - tn: 14188.0000 - fn: 24.0000 - accuracy: 0.9873 - precision: 0.8928 - recall: 0.9841 - auc: 0.9982 - prc: 0.9851\n",
            "Epoch 12: val_prc did not improve from 0.99045\n",
            "125/125 [==============================] - 3s 21ms/step - loss: 0.0447 - tp: 1492.0000 - fp: 182.0000 - tn: 14265.0000 - fn: 24.0000 - accuracy: 0.9871 - precision: 0.8913 - recall: 0.9842 - auc: 0.9982 - prc: 0.9845 - val_loss: 0.0519 - val_tp: 264.0000 - val_fp: 48.0000 - val_tn: 2505.0000 - val_fn: 0.0000e+00 - val_accuracy: 0.9830 - val_precision: 0.8462 - val_recall: 1.0000 - val_auc: 0.9997 - val_prc: 0.9976\n",
            "Epoch 13/100\n",
            "123/125 [============================>.] - ETA: 0s - loss: 0.0407 - tp: 1473.0000 - fp: 149.0000 - tn: 14099.0000 - fn: 23.0000 - accuracy: 0.9891 - precision: 0.9081 - recall: 0.9846 - auc: 0.9982 - prc: 0.9885\n",
            "Epoch 13: val_prc did not improve from 0.99045\n",
            "125/125 [==============================] - 3s 21ms/step - loss: 0.0413 - tp: 1492.0000 - fp: 150.0000 - tn: 14297.0000 - fn: 24.0000 - accuracy: 0.9891 - precision: 0.9086 - recall: 0.9842 - auc: 0.9982 - prc: 0.9884 - val_loss: 0.0210 - val_tp: 263.0000 - val_fp: 15.0000 - val_tn: 2538.0000 - val_fn: 1.0000 - val_accuracy: 0.9943 - val_precision: 0.9460 - val_recall: 0.9962 - val_auc: 0.9978 - val_prc: 0.9959\n",
            "Epoch 14/100\n",
            "124/125 [============================>.] - ETA: 0s - loss: 0.0400 - tp: 1481.0000 - fp: 186.0000 - tn: 14180.0000 - fn: 25.0000 - accuracy: 0.9867 - precision: 0.8884 - recall: 0.9834 - auc: 0.9987 - prc: 0.9861\n",
            "Epoch 14: val_prc did not improve from 0.99045\n",
            "125/125 [==============================] - 3s 21ms/step - loss: 0.0400 - tp: 1491.0000 - fp: 187.0000 - tn: 14260.0000 - fn: 25.0000 - accuracy: 0.9867 - precision: 0.8886 - recall: 0.9835 - auc: 0.9987 - prc: 0.9862 - val_loss: 0.0344 - val_tp: 264.0000 - val_fp: 37.0000 - val_tn: 2516.0000 - val_fn: 0.0000e+00 - val_accuracy: 0.9869 - val_precision: 0.8771 - val_recall: 1.0000 - val_auc: 0.9997 - val_prc: 0.9952\n",
            "Epoch 15/100\n",
            "123/125 [============================>.] - ETA: 0s - loss: 0.0486 - tp: 1465.0000 - fp: 203.0000 - tn: 14048.0000 - fn: 28.0000 - accuracy: 0.9853 - precision: 0.8783 - recall: 0.9812 - auc: 0.9981 - prc: 0.9859\n",
            "Epoch 15: val_prc did not improve from 0.99045\n",
            "125/125 [==============================] - 4s 28ms/step - loss: 0.0482 - tp: 1488.0000 - fp: 205.0000 - tn: 14242.0000 - fn: 28.0000 - accuracy: 0.9854 - precision: 0.8789 - recall: 0.9815 - auc: 0.9981 - prc: 0.9861 - val_loss: 0.0133 - val_tp: 262.0000 - val_fp: 10.0000 - val_tn: 2543.0000 - val_fn: 2.0000 - val_accuracy: 0.9957 - val_precision: 0.9632 - val_recall: 0.9924 - val_auc: 0.9999 - val_prc: 0.9990\n",
            "Epoch 16/100\n",
            "123/125 [============================>.] - ETA: 0s - loss: 0.0449 - tp: 1469.0000 - fp: 150.0000 - tn: 14102.0000 - fn: 23.0000 - accuracy: 0.9890 - precision: 0.9074 - recall: 0.9846 - auc: 0.9974 - prc: 0.9868\n",
            "Epoch 16: val_prc did not improve from 0.99045\n",
            "125/125 [==============================] - 4s 30ms/step - loss: 0.0456 - tp: 1493.0000 - fp: 159.0000 - tn: 14288.0000 - fn: 23.0000 - accuracy: 0.9886 - precision: 0.9038 - recall: 0.9848 - auc: 0.9974 - prc: 0.9854 - val_loss: 0.0563 - val_tp: 264.0000 - val_fp: 48.0000 - val_tn: 2505.0000 - val_fn: 0.0000e+00 - val_accuracy: 0.9830 - val_precision: 0.8462 - val_recall: 1.0000 - val_auc: 0.9998 - val_prc: 0.9985\n",
            "Epoch 17/100\n",
            "124/125 [============================>.] - ETA: 0s - loss: 0.0414 - tp: 1483.0000 - fp: 183.0000 - tn: 14182.0000 - fn: 24.0000 - accuracy: 0.9870 - precision: 0.8902 - recall: 0.9841 - auc: 0.9981 - prc: 0.9881\n",
            "Epoch 17: val_prc did not improve from 0.99045\n",
            "125/125 [==============================] - 3s 23ms/step - loss: 0.0425 - tp: 1491.0000 - fp: 185.0000 - tn: 14262.0000 - fn: 25.0000 - accuracy: 0.9868 - precision: 0.8896 - recall: 0.9835 - auc: 0.9980 - prc: 0.9878 - val_loss: 0.0206 - val_tp: 263.0000 - val_fp: 19.0000 - val_tn: 2534.0000 - val_fn: 1.0000 - val_accuracy: 0.9929 - val_precision: 0.9326 - val_recall: 0.9962 - val_auc: 0.9999 - val_prc: 0.9988\n",
            "Epoch 18/100\n",
            "122/125 [============================>.] - ETA: 0s - loss: 0.0431 - tp: 1461.0000 - fp: 176.0000 - tn: 13956.0000 - fn: 23.0000 - accuracy: 0.9873 - precision: 0.8925 - recall: 0.9845 - auc: 0.9983 - prc: 0.9858\n",
            "Epoch 18: val_prc did not improve from 0.99045\n",
            "125/125 [==============================] - 3s 21ms/step - loss: 0.0435 - tp: 1492.0000 - fp: 179.0000 - tn: 14268.0000 - fn: 24.0000 - accuracy: 0.9873 - precision: 0.8929 - recall: 0.9842 - auc: 0.9983 - prc: 0.9858 - val_loss: 0.0246 - val_tp: 262.0000 - val_fp: 20.0000 - val_tn: 2533.0000 - val_fn: 2.0000 - val_accuracy: 0.9922 - val_precision: 0.9291 - val_recall: 0.9924 - val_auc: 0.9997 - val_prc: 0.9976\n",
            "Epoch 19/100\n",
            "124/125 [============================>.] - ETA: 0s - loss: 0.0509 - tp: 1473.0000 - fp: 174.0000 - tn: 14193.0000 - fn: 32.0000 - accuracy: 0.9870 - precision: 0.8944 - recall: 0.9787 - auc: 0.9967 - prc: 0.9836\n",
            "Epoch 19: val_prc did not improve from 0.99045\n",
            "125/125 [==============================] - 3s 21ms/step - loss: 0.0508 - tp: 1484.0000 - fp: 175.0000 - tn: 14272.0000 - fn: 32.0000 - accuracy: 0.9870 - precision: 0.8945 - recall: 0.9789 - auc: 0.9968 - prc: 0.9837 - val_loss: 0.0239 - val_tp: 261.0000 - val_fp: 21.0000 - val_tn: 2532.0000 - val_fn: 3.0000 - val_accuracy: 0.9915 - val_precision: 0.9255 - val_recall: 0.9886 - val_auc: 0.9998 - val_prc: 0.9981\n",
            "Epoch 20/100\n",
            "124/125 [============================>.] - ETA: 0s - loss: 0.0323 - tp: 1482.0000 - fp: 111.0000 - tn: 14258.0000 - fn: 21.0000 - accuracy: 0.9917 - precision: 0.9303 - recall: 0.9860 - auc: 0.9991 - prc: 0.9901\n",
            "Epoch 20: val_prc did not improve from 0.99045\n",
            "125/125 [==============================] - 3s 20ms/step - loss: 0.0322 - tp: 1495.0000 - fp: 111.0000 - tn: 14336.0000 - fn: 21.0000 - accuracy: 0.9917 - precision: 0.9309 - recall: 0.9861 - auc: 0.9991 - prc: 0.9902 - val_loss: 0.0291 - val_tp: 260.0000 - val_fp: 25.0000 - val_tn: 2528.0000 - val_fn: 4.0000 - val_accuracy: 0.9897 - val_precision: 0.9123 - val_recall: 0.9848 - val_auc: 0.9994 - val_prc: 0.9928\n",
            "Epoch 21/100\n",
            "123/125 [============================>.] - ETA: 0s - loss: 0.0362 - tp: 1474.0000 - fp: 160.0000 - tn: 14087.0000 - fn: 23.0000 - accuracy: 0.9884 - precision: 0.9021 - recall: 0.9846 - auc: 0.9990 - prc: 0.9896\n",
            "Epoch 21: val_prc did not improve from 0.99045\n",
            "125/125 [==============================] - 4s 28ms/step - loss: 0.0361 - tp: 1493.0000 - fp: 163.0000 - tn: 14284.0000 - fn: 23.0000 - accuracy: 0.9883 - precision: 0.9016 - recall: 0.9848 - auc: 0.9990 - prc: 0.9890 - val_loss: 0.0122 - val_tp: 260.0000 - val_fp: 10.0000 - val_tn: 2543.0000 - val_fn: 4.0000 - val_accuracy: 0.9950 - val_precision: 0.9630 - val_recall: 0.9848 - val_auc: 0.9999 - val_prc: 0.9988\n",
            "Epoch 22/100\n",
            "124/125 [============================>.] - ETA: 0s - loss: 0.0405 - tp: 1475.0000 - fp: 159.0000 - tn: 14212.0000 - fn: 26.0000 - accuracy: 0.9883 - precision: 0.9027 - recall: 0.9827 - auc: 0.9985 - prc: 0.9878\n",
            "Epoch 22: val_prc did not improve from 0.99045\n",
            "125/125 [==============================] - 3s 26ms/step - loss: 0.0404 - tp: 1490.0000 - fp: 160.0000 - tn: 14287.0000 - fn: 26.0000 - accuracy: 0.9883 - precision: 0.9030 - recall: 0.9828 - auc: 0.9985 - prc: 0.9879 - val_loss: 0.0180 - val_tp: 260.0000 - val_fp: 15.0000 - val_tn: 2538.0000 - val_fn: 4.0000 - val_accuracy: 0.9933 - val_precision: 0.9455 - val_recall: 0.9848 - val_auc: 0.9998 - val_prc: 0.9982\n",
            "Epoch 23/100\n",
            "123/125 [============================>.] - ETA: 0s - loss: 0.0372 - tp: 1472.0000 - fp: 132.0000 - tn: 14117.0000 - fn: 23.0000 - accuracy: 0.9902 - precision: 0.9177 - recall: 0.9846 - auc: 0.9984 - prc: 0.9892\n",
            "Epoch 23: val_prc did not improve from 0.99045\n",
            "125/125 [==============================] - 3s 22ms/step - loss: 0.0370 - tp: 1493.0000 - fp: 133.0000 - tn: 14314.0000 - fn: 23.0000 - accuracy: 0.9902 - precision: 0.9182 - recall: 0.9848 - auc: 0.9984 - prc: 0.9894 - val_loss: 0.0139 - val_tp: 263.0000 - val_fp: 14.0000 - val_tn: 2539.0000 - val_fn: 1.0000 - val_accuracy: 0.9947 - val_precision: 0.9495 - val_recall: 0.9962 - val_auc: 0.9999 - val_prc: 0.9992\n",
            "Epoch 24/100\n",
            "124/125 [============================>.] - ETA: 0s - loss: 0.0350 - tp: 1481.0000 - fp: 134.0000 - tn: 14232.0000 - fn: 25.0000 - accuracy: 0.9900 - precision: 0.9170 - recall: 0.9834 - auc: 0.9990 - prc: 0.9922\n",
            "Epoch 24: val_prc did not improve from 0.99045\n",
            "125/125 [==============================] - 3s 21ms/step - loss: 0.0349 - tp: 1491.0000 - fp: 135.0000 - tn: 14312.0000 - fn: 25.0000 - accuracy: 0.9900 - precision: 0.9170 - recall: 0.9835 - auc: 0.9990 - prc: 0.9922 - val_loss: 0.0179 - val_tp: 262.0000 - val_fp: 16.0000 - val_tn: 2537.0000 - val_fn: 2.0000 - val_accuracy: 0.9936 - val_precision: 0.9424 - val_recall: 0.9924 - val_auc: 0.9998 - val_prc: 0.9985\n",
            "Epoch 25/100\n",
            "124/125 [============================>.] - ETA: 0s - loss: 0.0504 - tp: 1481.0000 - fp: 198.0000 - tn: 14162.0000 - fn: 31.0000 - accuracy: 0.9856 - precision: 0.8821 - recall: 0.9795 - auc: 0.9975 - prc: 0.9837\n",
            "Epoch 25: val_prc did not improve from 0.99045\n",
            "125/125 [==============================] - 3s 21ms/step - loss: 0.0506 - tp: 1485.0000 - fp: 202.0000 - tn: 14245.0000 - fn: 31.0000 - accuracy: 0.9854 - precision: 0.8803 - recall: 0.9796 - auc: 0.9974 - prc: 0.9830 - val_loss: 0.0388 - val_tp: 261.0000 - val_fp: 30.0000 - val_tn: 2523.0000 - val_fn: 3.0000 - val_accuracy: 0.9883 - val_precision: 0.8969 - val_recall: 0.9886 - val_auc: 0.9996 - val_prc: 0.9969\n",
            "Epoch 26/100\n",
            "124/125 [============================>.] - ETA: 0s - loss: 0.0436 - tp: 1475.0000 - fp: 166.0000 - tn: 14200.0000 - fn: 31.0000 - accuracy: 0.9876 - precision: 0.8988 - recall: 0.9794 - auc: 0.9985 - prc: 0.9852\n",
            "Epoch 26: val_prc did not improve from 0.99045\n",
            "125/125 [==============================] - 3s 21ms/step - loss: 0.0433 - tp: 1485.0000 - fp: 166.0000 - tn: 14281.0000 - fn: 31.0000 - accuracy: 0.9877 - precision: 0.8995 - recall: 0.9796 - auc: 0.9985 - prc: 0.9853 - val_loss: 0.0194 - val_tp: 259.0000 - val_fp: 13.0000 - val_tn: 2540.0000 - val_fn: 5.0000 - val_accuracy: 0.9936 - val_precision: 0.9522 - val_recall: 0.9811 - val_auc: 0.9975 - val_prc: 0.9936\n",
            "Epoch 27/100\n",
            "125/125 [==============================] - ETA: 0s - loss: 0.0490 - tp: 1490.0000 - fp: 168.0000 - tn: 14279.0000 - fn: 26.0000 - accuracy: 0.9878 - precision: 0.8987 - recall: 0.9828 - auc: 0.9969 - prc: 0.9886\n",
            "Epoch 27: val_prc did not improve from 0.99045\n",
            "125/125 [==============================] - 3s 27ms/step - loss: 0.0490 - tp: 1490.0000 - fp: 168.0000 - tn: 14279.0000 - fn: 26.0000 - accuracy: 0.9878 - precision: 0.8987 - recall: 0.9828 - auc: 0.9969 - prc: 0.9886 - val_loss: 0.0581 - val_tp: 263.0000 - val_fp: 52.0000 - val_tn: 2501.0000 - val_fn: 1.0000 - val_accuracy: 0.9812 - val_precision: 0.8349 - val_recall: 0.9962 - val_auc: 0.9996 - val_prc: 0.9941\n",
            "Epoch 28/100\n",
            "123/125 [============================>.] - ETA: 0s - loss: 0.0499 - tp: 1479.0000 - fp: 196.0000 - tn: 14049.0000 - fn: 20.0000 - accuracy: 0.9863 - precision: 0.8830 - recall: 0.9867 - auc: 0.9976 - prc: 0.9838\n",
            "Epoch 28: val_prc did not improve from 0.99045\n",
            "125/125 [==============================] - 3s 25ms/step - loss: 0.0498 - tp: 1496.0000 - fp: 200.0000 - tn: 14247.0000 - fn: 20.0000 - accuracy: 0.9862 - precision: 0.8821 - recall: 0.9868 - auc: 0.9976 - prc: 0.9839 - val_loss: 0.0453 - val_tp: 264.0000 - val_fp: 33.0000 - val_tn: 2520.0000 - val_fn: 0.0000e+00 - val_accuracy: 0.9883 - val_precision: 0.8889 - val_recall: 1.0000 - val_auc: 0.9999 - val_prc: 0.9987\n",
            "Epoch 29/100\n",
            "124/125 [============================>.] - ETA: 0s - loss: 0.0505 - tp: 1487.0000 - fp: 185.0000 - tn: 14175.0000 - fn: 25.0000 - accuracy: 0.9868 - precision: 0.8894 - recall: 0.9835 - auc: 0.9973 - prc: 0.9849\n",
            "Epoch 29: val_prc did not improve from 0.99045\n",
            "125/125 [==============================] - 3s 20ms/step - loss: 0.0503 - tp: 1491.0000 - fp: 185.0000 - tn: 14262.0000 - fn: 25.0000 - accuracy: 0.9868 - precision: 0.8896 - recall: 0.9835 - auc: 0.9973 - prc: 0.9850 - val_loss: 0.0313 - val_tp: 263.0000 - val_fp: 26.0000 - val_tn: 2527.0000 - val_fn: 1.0000 - val_accuracy: 0.9904 - val_precision: 0.9100 - val_recall: 0.9962 - val_auc: 0.9998 - val_prc: 0.9983\n",
            "Epoch 30/100\n",
            "124/125 [============================>.] - ETA: 0s - loss: 0.0359 - tp: 1491.0000 - fp: 153.0000 - tn: 14211.0000 - fn: 17.0000 - accuracy: 0.9893 - precision: 0.9069 - recall: 0.9887 - auc: 0.9986 - prc: 0.9887\n",
            "Epoch 30: val_prc did not improve from 0.99045\n",
            "125/125 [==============================] - 3s 21ms/step - loss: 0.0360 - tp: 1499.0000 - fp: 154.0000 - tn: 14293.0000 - fn: 17.0000 - accuracy: 0.9893 - precision: 0.9068 - recall: 0.9888 - auc: 0.9986 - prc: 0.9881 - val_loss: 0.0140 - val_tp: 261.0000 - val_fp: 10.0000 - val_tn: 2543.0000 - val_fn: 3.0000 - val_accuracy: 0.9954 - val_precision: 0.9631 - val_recall: 0.9886 - val_auc: 0.9979 - val_prc: 0.9960\n",
            "Epoch 31/100\n",
            "124/125 [============================>.] - ETA: 0s - loss: 0.0312 - tp: 1489.0000 - fp: 130.0000 - tn: 14231.0000 - fn: 22.0000 - accuracy: 0.9904 - precision: 0.9197 - recall: 0.9854 - auc: 0.9993 - prc: 0.9930\n",
            "Epoch 31: val_prc did not improve from 0.99045\n",
            "125/125 [==============================] - 3s 21ms/step - loss: 0.0318 - tp: 1493.0000 - fp: 130.0000 - tn: 14317.0000 - fn: 23.0000 - accuracy: 0.9904 - precision: 0.9199 - recall: 0.9848 - auc: 0.9993 - prc: 0.9928 - val_loss: 0.0237 - val_tp: 263.0000 - val_fp: 26.0000 - val_tn: 2527.0000 - val_fn: 1.0000 - val_accuracy: 0.9904 - val_precision: 0.9100 - val_recall: 0.9962 - val_auc: 0.9999 - val_prc: 0.9988\n",
            "Epoch 32/100\n",
            "123/125 [============================>.] - ETA: 0s - loss: 0.0363 - tp: 1483.0000 - fp: 130.0000 - tn: 14112.0000 - fn: 19.0000 - accuracy: 0.9905 - precision: 0.9194 - recall: 0.9874 - auc: 0.9984 - prc: 0.9915\n",
            "Epoch 32: val_prc did not improve from 0.99045\n",
            "125/125 [==============================] - 3s 22ms/step - loss: 0.0368 - tp: 1496.0000 - fp: 130.0000 - tn: 14317.0000 - fn: 20.0000 - accuracy: 0.9906 - precision: 0.9200 - recall: 0.9868 - auc: 0.9984 - prc: 0.9913 - val_loss: 0.0186 - val_tp: 262.0000 - val_fp: 16.0000 - val_tn: 2537.0000 - val_fn: 2.0000 - val_accuracy: 0.9936 - val_precision: 0.9424 - val_recall: 0.9924 - val_auc: 0.9996 - val_prc: 0.9971\n",
            "Epoch 33/100\n",
            "124/125 [============================>.] - ETA: 0s - loss: 0.0407 - tp: 1491.0000 - fp: 173.0000 - tn: 14189.0000 - fn: 19.0000 - accuracy: 0.9879 - precision: 0.8960 - recall: 0.9874 - auc: 0.9982 - prc: 0.9875Restoring model weights from the end of the best epoch: 23.\n",
            "\n",
            "Epoch 33: val_prc did not improve from 0.99045\n",
            "125/125 [==============================] - 3s 27ms/step - loss: 0.0406 - tp: 1497.0000 - fp: 174.0000 - tn: 14273.0000 - fn: 19.0000 - accuracy: 0.9879 - precision: 0.8959 - recall: 0.9875 - auc: 0.9982 - prc: 0.9875 - val_loss: 0.0284 - val_tp: 262.0000 - val_fp: 18.0000 - val_tn: 2535.0000 - val_fn: 2.0000 - val_accuracy: 0.9929 - val_precision: 0.9357 - val_recall: 0.9924 - val_auc: 0.9998 - val_prc: 0.9979\n",
            "Epoch 33: early stopping\n"
          ]
        }
      ]
    },
    {
      "cell_type": "markdown",
      "source": [
        "## View & save training history\n",
        "\n",
        "View plots of metrics across epochs during training\n",
        "- Top left = loss over epochs\n",
        "- Top right (our key metric) = area under the precision recall curve. Check there is not a big difference between training and validation, if so this would indicate overifitting.\n",
        "- Bottom left = precision\n",
        "- Bottom right = recall\n",
        "\n",
        "This shows the model maximises the Prc metric very early on, no further training will help (cutting back or adjusting learning rate may actually improve this)"
      ],
      "metadata": {
        "id": "fj8t2MiXNnYy"
      }
    },
    {
      "cell_type": "code",
      "source": [
        "# import some plotting packages\n",
        "import matplotlib as mpl\n",
        "import matplotlib.pyplot as plt\n",
        "import seaborn as sns\n",
        "\n",
        "# for metric plots later on\n",
        "mpl.rcParams['figure.figsize'] = (12, 10)\n",
        "colors = plt.rcParams['axes.prop_cycle'].by_key()['color']"
      ],
      "metadata": {
        "id": "awDC4iDuMRFY"
      },
      "execution_count": null,
      "outputs": []
    },
    {
      "cell_type": "code",
      "source": [
        "# define some funstions to view training history, code used from: https://www.tensorflow.org/tutorials/structured_data/imbalanced_data#class_weights\n",
        "def plot_metrics(history):\n",
        "  metrics = ['loss', 'prc', 'precision', 'recall']\n",
        "  for n, metric in enumerate(metrics):\n",
        "    name = metric.replace(\"_\",\" \").capitalize()\n",
        "    plt.subplot(2,2,n+1)\n",
        "    plt.plot(history.epoch, history.history[metric], color=colors[0], label='Train')\n",
        "    plt.plot(history.epoch, history.history['val_'+metric],\n",
        "             color=colors[0], linestyle=\"--\", label='Val')\n",
        "    plt.xlabel('Epoch')\n",
        "    plt.ylabel(name)\n",
        "    if metric == 'loss':\n",
        "      plt.ylim([0, plt.ylim()[1]])\n",
        "    elif metric == 'auc':\n",
        "      plt.ylim([0.8,1])\n",
        "    else:\n",
        "      plt.ylim([0,1])\n",
        "\n",
        "    plt.legend()"
      ],
      "metadata": {
        "id": "bmcXyyRVLlhQ"
      },
      "execution_count": null,
      "outputs": []
    },
    {
      "cell_type": "code",
      "source": [
        "plot_metrics(final_model_history)"
      ],
      "metadata": {
        "colab": {
          "base_uri": "https://localhost:8080/",
          "height": 610
        },
        "id": "y17KrItTLlje",
        "outputId": "5f34a1cc-219c-408b-c97b-584b490e3281"
      },
      "execution_count": null,
      "outputs": [
        {
          "output_type": "display_data",
          "data": {
            "text/plain": [
              "<Figure size 864x720 with 4 Axes>"
            ],
            "image/png": "[encoded data removed]"
          },
          "metadata": {
            "needs_background": "light"
          }
        }
      ]
    },
    {
      "cell_type": "code",
      "source": [
        "# set the filename with a timestamp\n",
        "timestamp = datetime.now().strftime(\"%Y-%m-%d_%H-%M-%S\")\n",
        "history_pickle_file = \"model_history_sunday\" + timestamp + \".pkl\"\n",
        "\n",
        "# save the history object as a pickle file\n",
        "with open(pickle_file_dir + history_pickle_file, \"wb\") as f:\n",
        "    pickle.dump(final_model_history, f)"
      ],
      "metadata": {
        "id": "ujHCqCYY00gn"
      },
      "execution_count": null,
      "outputs": []
    },
    {
      "cell_type": "code",
      "source": [],
      "metadata": {
        "id": "_ys5Ojyc1lD2"
      },
      "execution_count": null,
      "outputs": []
    },
    {
      "cell_type": "code",
      "source": [],
      "metadata": {
        "id": "wjQb8gLY1lBb"
      },
      "execution_count": null,
      "outputs": []
    },
    {
      "cell_type": "code",
      "source": [],
      "metadata": {
        "id": "D5PBEyHl1k-9"
      },
      "execution_count": null,
      "outputs": []
    },
    {
      "cell_type": "code",
      "source": [],
      "metadata": {
        "id": "Xefymprk1k8h"
      },
      "execution_count": null,
      "outputs": []
    },
    {
      "cell_type": "markdown",
      "source": [
        "BELOW IS NOW REDUNDANT (AS MADE ANOTHER SCRIPT) CAN DELETE LATER\n",
        "\n",
        "# Assess performance\n",
        "\n",
        "User may wish to switch from a GPU to CPU runtime here\n",
        "\n",
        "\n",
        "\n",
        "1. Load the saved model and inference on the test data\n",
        "2. Check training history using train and validation data from the training process\n",
        "3.   Inference on the test data and check the model still performs well\n",
        "\n",
        "\n"
      ],
      "metadata": {
        "id": "s8DYBLcZDx3w"
      }
    },
    {
      "cell_type": "code",
      "source": [
        "from tensorflow.keras.models import load_model\n",
        "\n",
        "# path may be in the sub folder 'best_model'\n",
        "checkpoint_path = \"/content/drive/MyDrive/bombs/data/final_dataset/autokeras_model_50repeats/best_model\"\n",
        "final_model = load_model(checkpoint_path)\n",
        "\n",
        "# inference on the test data. If: 'test_features' is not defined, run the test files section under 'load dataset' near the start\n",
        "#test_raw_predictions = final_model.predict(test_features)\n",
        "test_raw_predictions = final_model.predict(test_features)"
      ],
      "metadata": {
        "id": "AL8OzWVkPdsY"
      },
      "execution_count": null,
      "outputs": []
    },
    {
      "cell_type": "markdown",
      "source": [
        "# Now inference on test data\n",
        "\n",
        "reckon I can remove this part and save for a colab script that assesses how good the model was - where all the history metrics are plotted too.\n",
        "\n",
        "DONT DELETE UNTIL I'VE MADE THIS SCRIPT THOUGH!"
      ],
      "metadata": {
        "id": "FpYva-GOyK9x"
      }
    },
    {
      "cell_type": "code",
      "source": [
        "test_evaluation = final_model.evaluate(test_features, test_labels,\n",
        "                                           batch_size=BATCH_SIZE, verbose=0)\n",
        "\n",
        "for name, value in zip(final_model.metrics_names, test_evaluation):\n",
        "  print(name, ': ', value)\n",
        "print()\n",
        "\n",
        "plot_cm(test_labels, test_raw_predictions)"
      ],
      "metadata": {
        "colab": {
          "base_uri": "https://localhost:8080/",
          "height": 628
        },
        "id": "dVUXl4mPQ8zM",
        "outputId": "2c68f750-b4c3-4ae0-e549-0787cff0c030"
      },
      "execution_count": null,
      "outputs": [
        {
          "output_type": "stream",
          "name": "stdout",
          "text": [
            "loss :  0.04517058655619621\n",
            "tp :  243.0\n",
            "fp :  5.0\n",
            "tn :  995.0\n",
            "fn :  7.0\n",
            "accuracy :  0.9904000163078308\n",
            "precision :  0.9798387289047241\n",
            "recall :  0.972000002861023\n",
            "auc :  0.9949380159378052\n",
            "prc :  0.9902741312980652\n",
            "\n",
            "Legitimate Transactions Detected (True Negatives):  995\n",
            "Legitimate Transactions Incorrectly Detected (False Positives):  5\n",
            "Fraudulent Transactions Missed (False Negatives):  7\n",
            "Blasts detected (True Positives):  243\n",
            "Total blasts:  250\n"
          ]
        },
        {
          "output_type": "display_data",
          "data": {
            "text/plain": [
              "<Figure size 360x360 with 2 Axes>"
            ],
            "image/png": "[encoded data removed]"
          },
          "metadata": {
            "needs_background": "light"
          }
        }
      ]
    },
    {
      "cell_type": "code",
      "source": [
        "# filenames were not stored in pickle files so add back in here for the df\n",
        "test_filenames = ['NB02518_M14_20220906_155400.WAV', 'NB02210_M14_20220914_052200.WAV', 'NB02331_M14_20220901_231400.WAV', 'NB02235_M14_20220916_084600.WAV', 'NB02511_M14_20220912_100400.WAV', 'NB02485_M14_20220918_210200.WAV', 'NB02436_M14_20220914_183400.WAV', 'NB02233_M14_20220901_162800.WAV', 'NB02265_M14_20220902_182800.WAV', 'NB02216_M14_20220919_025000.WAV', 'NB02242_M14_20220912_234800.WAV', 'NB02901_M16_20220911_131800.WAV', 'NB02814_M16_20220922_084400.WAV', 'NB02637_M16_20220831_123000.WAV', 'NB02944_M16_20220919_054600.WAV', 'NB02750_M16_20220922_124600.WAV', 'NB03025_M17_20220916_142600.WAV', 'NB02682_M16_20220831_120200.WAV', 'NB03036_M17_20220902_074200.WAV', 'NB02809_M16_20220908_162600.WAV', 'NB02993_M16_20220919_124000.WAV', 'NB02684_M16_20220901_092600.WAV', 'NB02806_M16_20220909_063000.WAV', 'NB02670_M16_20220903_053200.WAV', 'NB02907_M16_20220902_014200.WAV', 'NB02654_M16_20220915_215000.WAV', 'NB02674_M16_20220922_232600.WAV', 'NB02796_M16_20220922_153000.WAV', 'NB02864_M16_20220907_050200.WAV', 'NB02818_M16_20220925_143200.WAV', 'NB02929_M16_20220909_150800.WAV', 'NB03043_M17_20220912_214400.WAV', 'NB02691_M16_20220917_093000.WAV', 'NB03149_M17_20220914_181800.WAV', 'NB03378_M17_20220922_054200.WAV', 'NB03373_M17_20220914_095800.WAV', 'NB03292_M17_20220912_070400.WAV', 'NB03330_M17_20220920_123800.WAV', 'NB03289_M17_20220919_084200.WAV', 'NB03167_M17_20220830_094000.WAV', 'NB03303_M17_20220912_192600.WAV', 'NB03104_M17_20220914_052000.WAV', 'NB03371_M17_20220920_193600.WAV', 'NB03203_M17_20220902_171600.WAV', 'NB03138_M17_20220907_042200.WAV', 'NB03320_M17_20220908_111600.WAV', 'NB03328_M17_20220913_135600.WAV', 'NB03062_M17_20220922_000200.WAV', 'NB03439_M02_20220902_141800.WAV', 'NB03407_M02_20220908_080000.WAV', 'NB03180_M17_20220922_223400.WAV', 'NB03374_M17_20220920_073800.WAV', 'NB03597_M02_20220902_151000.WAV', 'NB03518_M02_20220901_205400.WAV', 'NB03614_M02_20220915_121800.WAV', 'NB03676_M02_20220913_103200.WAV', 'NB03758_M02_20220921_041800.WAV', 'NB03604_M02_20220901_032200.WAV', 'NB03596_M02_20220901_081600.WAV', 'NB03795_M02_20220915_224800.WAV', 'NB03444_M02_20220921_025600.WAV', 'NB03543_M02_20220908_051400.WAV', 'NB03895_M08_20220830_233600.WAV', 'NB03563_M02_20220907_215200.WAV', 'NB03627_M02_20220917_163600.WAV', 'NB03711_M02_20220829_143800.WAV', 'NB03469_M02_20220919_022400.WAV', 'NB03504_M02_20220917_042000.WAV', 'NB03534_M02_20220908_122600.WAV', 'NB03512_M02_20220902_002400.WAV', 'NB03576_M02_20220902_043600.WAV', 'NB03516_M02_20220831_002200.WAV', 'NB03861_M08_20220917_014600.WAV', 'NB03911_M08_20220831_175800.WAV', 'NB03862_M08_20220913_212000.WAV', 'NB03786_M02_20220911_045800.WAV', 'NB03503_M02_20220918_124600.WAV', 'NB03863_M08_20220909_182400.WAV', 'NB03761_M02_20220908_102400.WAV', 'NB03844_M08_20220915_050000.WAV', 'NB03641_M02_20220906_172800.WAV', 'NB03492_M02_20220919_164200.WAV', 'NB03787_M02_20220915_132600.WAV', 'NB03537_M02_20220830_024600.WAV', 'NB03770_M02_20220903_072800.WAV', 'NB03609_M02_20220914_115600.WAV', 'NB03629_M02_20220919_012600.WAV', 'NB03955_M08_20220919_081000.WAV', 'NB03928_M08_20220903_191000.WAV', 'NB04066_M08_20220922_034200.WAV', 'NB04056_M08_20220922_113800.WAV', 'NB03949_M08_20220908_180800.WAV', 'NB03926_M08_20220910_140600.WAV', 'NB04141_M08_20220918_150400.WAV', 'NB03972_M08_20220902_163800.WAV', 'NB04234_M01_20220911_142400.WAV', 'NB04151_M08_20220907_024600.WAV', 'NB04029_M08_20220922_110400.WAV', 'NB03948_M08_20220915_071600.WAV', 'NB04195_M08_20220911_043800.WAV', 'NB04023_M08_20220922_015800.WAV', 'NB04170_M08_20220920_120400.WAV', 'NB04032_M08_20220907_014200.WAV', 'NB04275_M01_20220913_234600.WAV', 'NB04561_M01_20220829_180600.WAV', 'NB04416_M01_20220910_083600.WAV', 'NB04502_M01_20220911_095400.WAV', 'NB04648_M10_20220902_111000.WAV', 'NB04343_M01_20220920_065600.WAV', 'NB04430_M01_20220911_114000.WAV', 'NB04694_M10_20220901_224200.WAV', 'NB04565_M01_20220921_065200.WAV', 'NB04318_M01_20220921_160400.WAV', 'NB04388_M01_20220922_054800.WAV', 'NB04357_M01_20220915_141200.WAV', 'NB04466_M01_20220830_153400.WAV', 'NB04493_M01_20220909_140600.WAV', 'NB04274_M01_20220918_232800.WAV', 'NB04688_M10_20220831_012200.WAV', 'NB04579_M01_20220902_134600.WAV', 'NB04261_M01_20220907_142000.WAV', 'NB04512_M01_20220910_201000.WAV', 'NB04548_M01_20220921_003000.WAV', 'NB04686_M10_20220904_032400.WAV', 'NB04549_M01_20220921_103800.WAV', 'NB04454_M01_20220903_124800.WAV', 'NB04264_M01_20220831_051600.WAV', 'NB04360_M01_20220922_114400.WAV', 'NB04743_M10_20220902_195400.WAV', 'NB05071_M11_20220901_204400.WAV', 'NB04744_M10_20220902_033800.WAV', 'NB05001_M11_20220919_104600.WAV', 'NB04863_M10_20220831_051200.WAV', 'NB04862_M10_20220903_000800.WAV', 'NB05165_M11_20220907_132600.WAV', 'NB04827_M10_20220901_125800.WAV', 'NB05124_M11_20220914_185400.WAV', 'NB04922_M10_20220904_025400.WAV', 'NB04818_M10_20220902_092400.WAV', 'NB04796_M10_20220830_183200.WAV', 'NB04940_M10_20220830_181200.WAV', 'NB04761_M10_20220901_123200.WAV', 'NB04790_M10_20220904_052000.WAV', 'NB05009_M11_20220916_143400.WAV', 'NB04968_M10_20220831_073200.WAV', 'NB05169_M11_20220901_040400.WAV', 'NB04959_M10_20220831_123600.WAV', 'NB05047_M11_20220908_114000.WAV', 'NB04952_M10_20220831_194400.WAV', 'NB05035_M11_20220910_060200.WAV', 'NB04813_M10_20220902_043200.WAV', 'NB04943_M10_20220902_094600.WAV', 'NB05061_M11_20220910_014400.WAV', 'NB04753_M10_20220831_102600.WAV', 'NB05016_M11_20220917_160600.WAV', 'NB04836_M10_20220901_202600.WAV', 'NB04707_M10_20220901_110000.WAV', 'NB05455_M04_20220919_173000.WAV', 'NB05225_M11_20220901_060200.WAV', 'NB05406_M04_20220830_121800.WAV', 'NB05217_M11_20220913_125200.WAV', 'NB05314_M11_20220907_073200.WAV', 'NB05277_M11_20220919_190000.WAV', 'NB05298_M11_20220902_082800.WAV', 'NB05417_M04_20220901_020600.WAV', 'NB05438_M04_20220914_003600.WAV', 'NB05398_M11_20220920_133600.WAV', 'NB05269_M11_20220911_224600.WAV', 'NB05236_M11_20220918_073200.WAV', 'NB05436_M04_20220831_013400.WAV', 'NB05468_M04_20220913_113200.WAV', 'NB05297_M11_20220921_124600.WAV', 'NB05413_M04_20220910_111800.WAV', 'NB05373_M11_20220916_033600.WAV', 'NB05407_M04_20220829_190400.WAV', 'NB05868_M05_20220901_072800.WAV', 'NB05885_M05_20220902_205400.WAV', 'NB05713_M04_20220901_062200.WAV', 'NB05872_M05_20220902_162000.WAV', 'NB05686_M04_20220922_111400.WAV', 'NB05765_M04_20220920_105600.WAV', 'NB05689_M04_20220920_024000.WAV', 'NB05629_M04_20220921_035600.WAV', 'NB05786_M04_20220906_141800.WAV', 'NB05569_M04_20220920_173200.WAV', 'NB05736_M04_20220910_150800.WAV', 'NB05830_M05_20220831_211400.WAV', 'NB05668_M04_20220916_221000.WAV', 'NB06094_M05_20220903_130000.WAV', 'NB05915_M05_20220901_220600.WAV', 'NB05975_M05_20220903_094000.WAV', 'NB06017_M05_20220903_205800.WAV', 'NB06018_M05_20220830_123800.WAV', 'NB06062_M05_20220830_214600.WAV', 'NB05978_M05_20220901_230200.WAV', 'NB06155_M05_20220831_230600.WAV', 'NB05962_M05_20220831_045200.WAV', 'NB06100_M05_20220903_160400.WAV', 'NB06031_M05_20220830_114000.WAV', 'NB06140_M05_20220901_165400.WAV', 'NB06075_M05_20220831_234400.WAV', 'NB06080_M05_20220831_031600.WAV', 'NB05926_M05_20220903_014200.WAV', 'NB06065_M05_20220830_202000.WAV', 'NB06009_M05_20220830_133000.WAV', 'NB06109_M05_20220902_232400.WAV', 'NB06013_M05_20220904_012800.WAV', 'NB06091_M05_20220830_112600.wav', 'NB05938_M05_20220831_100200.WAV', 'NB06061_M05_20220901_101400.WAV', 'NB06110_M05_20220902_171200.WAV', 'NB06024_M05_20220903_185400.WAV', 'NB05911_M05_20220901_180400.WAV', 'NB05976_M05_20220902_132600.WAV', 'NB05895_M05_20220831_232200.WAV', 'NB05921_M05_20220901_061400.WAV', 'NB06221_M07_20220901_000600.WAV', 'NB06426_M07_20220920_191000.WAV', 'NB06326_M07_20220909_024200.WAV', 'NB06596_M07_20220922_072800.WAV', 'NB06332_M07_20220920_102000.WAV', 'NB06230_M07_20220916_115800.WAV', 'NB06350_M07_20220912_202400.WAV', 'NB06368_M07_20220909_055000.WAV', 'NB06209_M07_20220923_183000.WAV', 'NB06253_M07_20220909_013800.WAV', 'NB06180_M05_20220830_073600.WAV', 'NB06361_M07_20220831_063800.WAV', 'NB06399_M07_20220831_024000.WAV', 'NB06380_M07_20220903_074200.WAV', 'NB06599_M07_20220910_071200.WAV', 'NB06231_M07_20220920_083400.WAV', 'NB06450_M07_20220831_155400.WAV', 'NB06436_M07_20220916_083200.WAV', 'NB06347_M07_20220916_023600.WAV', 'NB06477_M07_20220906_202000.WAV', 'NB06202_M07_20220831_010000.WAV', 'NB06564_M07_20220830_050800.WAV', 'NB07017_M15_20220915_065200.WAV', 'NB07033_M15_20220913_083000.WAV', 'NB06915_M12_20220907_232400.WAV', 'NB06728_M12_20220909_071200.WAV', 'NB06637_M12_20220901_031000.WAV', 'NB06851_M12_20220830_200400.WAV', 'NB06791_M12_20220916_014000.WAV', 'NB06821_M12_20220909_231600.WAV', 'NB06638_M12_20220901_205400.WAV', 'NB06968_M12_20220907_150400.WAV', 'NB06763_M12_20220902_072000.WAV', 'NB06643_M12_20220908_165800.WAV', 'NB06841_M12_20220908_094800.WAV', 'NB06676_M12_20220912_200000.WAV', 'NB07047_M15_20220831_135800.WAV', 'NB07065_M15_20220917_033000.WAV', 'NB06780_M12_20220914_050600.WAV', 'NB06959_M12_20220911_231000.WAV', 'NB06855_M12_20220903_030000.WAV', 'NB06625_M12_20220917_054800.WAV', 'NB06667_M12_20220910_144800.WAV', 'NB06918_M12_20220921_152000.WAV', 'NB06974_M12_20220916_032600.WAV', 'NB06867_M12_20220922_070800.WAV', 'NB06720_M12_20220921_163800.WAV', 'NB06926_M12_20220917_231400.WAV', 'NB06861_M12_20220903_115400.WAV', 'NB07364_M15_20220920_134200.WAV', 'NB07388_M15_20220902_045400.WAV', 'NB07432_M18_20220912_202600.WAV', 'NB07209_M15_20220912_130600.WAV', 'NB07186_M15_20220917_073800.WAV', 'NB07351_M15_20220914_170000.WAV', 'NB07093_M15_20220913_055000.WAV', 'NB07195_M15_20220919_132600.WAV', 'NB07097_M15_20220829_164400.WAV', 'NB07416_M18_20220911_090200.WAV', 'NB07342_M15_20220915_233000.WAV', 'NB07156_M15_20220909_180800.WAV', 'NB07207_M15_20220923_104600.WAV', 'NB07313_M15_20220907_191800.WAV', 'NB07373_M15_20220914_023600.WAV', 'NB07278_M15_20220907_035000.WAV', 'NB07283_M15_20220903_114000.WAV', 'NB07160_M15_20220907_184200.WAV', 'NB07203_M15_20220907_145000.WAV', 'NB07379_M15_20220907_104000.WAV', 'NB07287_M15_20220830_125400.WAV', 'NB07139_M15_20220922_234800.WAV', 'NB07205_M15_20220910_193600.WAV', 'NB07108_M15_20220902_092800.WAV', 'NB07437_M18_20220908_235200.WAV', 'NB07594_M18_20220915_181400.WAV', 'NB07598_M18_20220920_095200.WAV', 'NB07705_M18_20220902_010000.WAV', 'NB07789_M18_20220903_044400.WAV', 'NB07553_M18_20220914_184600.WAV', 'NB07500_M18_20220907_004800.WAV', 'NB07695_M18_20220907_151600.WAV', 'NB07532_M18_20220830_191000.WAV', 'NB07672_M18_20220910_214400.WAV', 'NB07736_M18_20220915_181200.WAV', 'NB07850_M03_20220915_001400.WAV', 'NB07571_M18_20220915_131600.WAV', 'NB07502_M18_20220914_010200.WAV', 'NB07907_M03_20220921_173800.WAV', 'NB07535_M18_20220917_021200.WAV', 'NB07864_M03_20220831_075600.WAV', 'NB07722_M18_20220915_072400.WAV', 'NB07740_M18_20220903_190800.WAV', 'NB07834_M03_20220902_203000.WAV', 'NB07879_M03_20220830_102400.WAV', 'NB07580_M18_20220901_024800.WAV', 'NB07895_M03_20220908_001600.WAV', 'NB07612_M18_20220920_080000.WAV', 'NB07449_M18_20220916_231400.WAV', 'NB07659_M18_20220910_114000.WAV', 'NB07530_M18_20220915_191600.WAV', 'NB07830_M03_20220910_073800.WAV', 'NB07870_M03_20220916_120800.WAV', 'NB07817_M03_20220917_204200.WAV', 'NB08022_M03_20220831_014600.WAV', 'NB08252_M06_20220902_201000.WAV', 'NB08358_M06_20220830_092200.WAV', 'NB07982_M03_20220915_080400.WAV', 'NB08204_M06_20220908_051800.WAV', 'NB08109_M03_20220904_074400.WAV', 'NB08145_M03_20220831_161600.WAV', 'NB08064_M03_20220902_000600.WAV', 'NB08243_M06_20220920_113800.WAV', 'NB08183_M03_20220830_064400.WAV', 'NB08062_M03_20220914_002600.WAV', 'NB08191_M03_20220916_104800.WAV', 'NB07928_M03_20220917_210800.WAV', 'NB08241_M06_20220917_025200.WAV', 'NB07973_M03_20220915_194600.WAV', 'NB07956_M03_20220917_071400.WAV', 'NB08182_M03_20220909_153600.WAV', 'NB08334_M06_20220918_183400.WAV', 'NB08297_M06_20220915_162600.WAV', 'NB08271_M06_20220917_041800.WAV', 'NB08288_M06_20220917_071800.WAV', 'NB07943_M03_20220919_074200.WAV', 'NB08172_M03_20220919_104800.WAV', 'NB08059_M03_20220903_053400.WAV', 'NB07983_M03_20220919_213400.WAV', 'NB08671_M09_20220912_032600.WAV', 'NB08531_M06_20220912_160200.WAV', 'NB08672_M09_20220913_112800.WAV', 'NB08779_M09_20220902_212600.WAV', 'NB08498_M06_20220916_201800.WAV', 'NB08820_M09_20220903_120200.WAV', 'NB08636_M09_20220830_052800.WAV', 'NB08777_M09_20220922_211000.WAV', 'NB08412_M06_20220830_123000.WAV', 'NB08406_M06_20220908_054800.WAV', 'NB08614_M09_20220830_122000.WAV', 'NB08397_M06_20220917_191800.WAV', 'NB08734_M09_20220913_111600.WAV', 'NB08726_M09_20220921_053200.WAV', 'NB08421_M06_20220915_170200.WAV', 'NB08815_M09_20220921_102800.WAV', 'NB08800_M09_20220901_060600.WAV', 'NB08790_M09_20220830_001400.WAV', 'NB08606_M09_20220914_065200.WAV', 'NB08390_M06_20220829_153400.WAV', 'NB08723_M09_20220922_081600.WAV', 'NB08510_M06_20220917_031800.WAV', 'NB08922_M09_20220907_155600.WAV', 'NB08845_M09_20220908_160200.WAV', 'NB08856_M09_20220913_151200.WAV', 'NB08881_M09_20220912_222000.WAV', 'NB08950_M09_20220830_005000.WAV', 'NB08985_M09_20220916_111000.WAV', 'NB08980_M09_20220915_221000.WAV', 'NB08866_M09_20220916_073400.WAV', 'NB08824_M09_20220918_035200.WAV', 'NB00001_M13_20220902_052800_augmented1.wav', 'NB00107_M14_20220918_105600_augmented1.wav', 'NB00113_M14_20220915_095000_augmented1.wav', 'NB00144_M14_20220830_082800_augmented1.wav', 'NB00169_M14_20220921_191600_augmented1.wav', 'NB00172_M14_20220913_101600_augmented1.wav', 'NB00174_M14_20220912_193600_augmented1.wav', 'NB00220_M16_20220913_012200_augmented1.wav', 'NB00231_M16_20220912_183600_augmented1.wav', 'NB00240_M16_20220923_152000_augmented1.wav', 'NB00254_M16_20220902_091000_augmented1.wav', 'NB00261_M16_20220913_115400_augmented1.wav', 'NB00264_M16_20220911_084600_augmented1.wav', 'NB00273_M16_20220913_013400_augmented1.wav', 'NB00272_M16_20220904_000200_augmented1.wav', 'NB00276_M16_20220912_123800_augmented1.wav', 'NB00310_M17_20220915_044800_augmented1.wav', 'NB00330_M17_20220914_180600_augmented1.wav', 'NB00373_M17_20220908_222000_augmented1.wav', 'NB00390_M17_20220902_225000_augmented1.wav', 'NB00478_M02_20220919_114800_augmented1.wav', 'NB00475_M02_20220912_083200_augmented1.wav', 'NB00492_M02_20220903_062000_augmented1.wav', 'NB00517_M08_20220903_210200_augmented1.wav', 'NB00527_M08_20220915_063200_augmented1.wav', 'NB00587_M08_20220830_160800_augmented1.wav', 'NB00586_M08_20220912_032600_augmented1.wav', 'NB00629_M01_20220917_102400_augmented1.wav', 'NB00642_M01_20220907_103800_augmented1.wav', 'NB00648_M01_20220910_165400_augmented1.wav', 'NB00661_M01_20220913_003400_augmented1.wav', 'NB00671_M01_20220916_012600_augmented1.wav', 'NB00672_M01_20220907_191800_augmented1.wav', 'NB00710_M10_20220830_200600_augmented1.wav', 'NB00725_M10_20220901_114200_augmented1.wav', 'NB00735_M10_20220830_094400_augmented1.wav', 'NB00792_M10_20220904_090000_augmented1.wav', 'NB00794_M10_20220903_120400_augmented1.wav', 'NB00807_M11_20220902_200600_augmented1.wav', 'NB00833_M11_20220831_043000_augmented1.wav', 'NB00870_M11_20220910_153800_augmented1.wav', 'NB00889_M11_20220831_220200_augmented1.wav', 'NB00907_M04_20220912_025600_augmented1.wav', 'NB00954_M04_20220919_060200_augmented1.wav', 'NB00968_M04_20220913_104800_augmented1.wav', 'NB01001_M05_20220830_122200_augmented1.wav', 'NB01012_M05_20220903_064400_augmented1.wav', 'NB01037_M05_20220901_121000_augmented1.wav', 'NB01050_M05_20220831_093200_augmented1.wav', 'NB01052_M05_20220830_195400_augmented1.wav', 'NB01066_M05_20220903_142000_augmented1.wav', 'NB01072_M05_20220902_171600_augmented1.wav', 'NB01115_M07_20220910_060800_augmented1.wav', 'NB01134_M07_20220830_230000_augmented1.wav', 'NB01152_M07_20220924_040000_augmented1.wav', 'NB01171_M07_20220830_180200_augmented1.wav', 'NB01175_M07_20220902_142400_augmented1.wav', 'NB01189_M07_20220829_112800_augmented1.wav', 'NB01198_M07_20220829_103000_augmented1.wav', 'NB01209_M12_20220914_182800_augmented1.wav', 'NB01219_M12_20220831_103400_augmented1.wav', 'NB01227_M12_20220830_014800_augmented1.wav', 'NB01251_M12_20220911_100800_augmented1.wav', 'NB01268_M12_20220914_121400_augmented1.wav', 'NB01284_M12_20220921_024800_augmented1.wav', 'NB01287_M12_20220915_221800_augmented1.wav', 'NB01296_M12_20220902_032600_augmented1.wav', 'NB01301_M15_20220912_224800_augmented1.wav', 'NB01414_M18_20220910_071800_augmented1.wav', 'NB01428_M18_20220904_064400_augmented1.wav', 'NB01485_M18_20220921_205800_augmented1.wav', 'NB01489_M18_20220916_231000_augmented1.wav', 'NB01497_M18_20220908_025400_augmented1.wav', 'NB01498_M18_20220910_102000_augmented1.wav', 'NB01504_M03_20220914_131000_augmented1.wav', 'NB01515_M03_20220902_204600_augmented1.wav', 'NB01538_M03_20220909_004600_augmented1.wav', 'NB01552_M03_20220920_195600_augmented1.wav', 'NB01548_M03_20220911_224200_augmented1.wav', 'NB01573_M03_20220915_200400_augmented1.wav', 'NB01575_M03_20220912_000200_augmented1.wav', 'NB01582_M03_20220911_211000_augmented1.wav', 'NB01622_M06_20220919_094000_augmented1.wav', 'NB01647_M06_20220908_125200_augmented1.wav', 'NB01683_M06_20220922_145800_augmented1.wav', 'NB01687_M06_20220903_155400_augmented1.wav', 'NB01711_M09_20220831_234000_augmented1.wav', 'NB01710_M09_20220912_041400_augmented1.wav', 'NB01725_M09_20220912_233600_augmented1.wav', 'NB01745_M09_20220912_021000_augmented1.wav', 'NB01766_M09_20220912_071000_augmented1.wav', 'NB01791_M09_20220918_103200_augmented1.wav', 'NB01813_M13_20220917_114600_augmented1.wav', 'NB01825_M13_20220909_081200_augmented1.wav', 'NB01841_M13_20220831_011600_augmented1.wav', 'NB01878_M13_20220915_201600_augmented1.wav', 'NB01903_M13_20220913_225600_augmented1.wav', 'NB01916_M13_20220909_102200_augmented1.wav', 'NB01933_M13_20220919_195200_augmented1.wav', 'NB02004_M13_20220901_213600_augmented1.wav', 'NB02017_M13_20220915_202600_augmented1.wav', 'NB02018_M13_20220909_010800_augmented1.wav', 'NB02036_M13_20220902_200600_augmented1.wav', 'NB02055_M13_20220921_113200_augmented1.wav', 'NB02065_M13_20220917_181000_augmented1.wav', 'NB02111_M13_20220903_214200_augmented1.wav', 'NB02115_M13_20220831_021600_augmented1.wav', 'NB02127_M13_20220902_175400_augmented1.wav', 'NB02177_M13_20220831_123400_augmented1.wav', 'NB02206_M14_20220913_221000_augmented1.wav', 'NB02210_M14_20220914_052200_augmented1.wav', 'NB02216_M14_20220919_025000_augmented1.wav', 'NB02233_M14_20220901_162800_augmented1.wav', 'NB02235_M14_20220916_084600_augmented1.wav', 'NB02242_M14_20220912_234800_augmented1.wav', 'NB02265_M14_20220902_182800_augmented1.wav', 'NB02294_M14_20220913_210800_augmented1.wav', 'NB02331_M14_20220901_231400_augmented1.wav', 'NB02336_M14_20220920_185600_augmented1.wav', 'NB02361_M14_20220922_102000_augmented1.wav', 'NB02369_M14_20220917_034200_augmented1.wav', 'NB02398_M14_20220903_130200_augmented1.wav', 'NB02403_M14_20220923_070200_augmented1.wav', 'NB02412_M14_20220918_141400_augmented1.wav', 'NB02433_M14_20220921_122600_augmented1.wav', 'NB02436_M14_20220914_183400_augmented1.wav', 'NB02455_M14_20220915_212800_augmented1.wav', 'NB02453_M14_20220831_013800_augmented1.wav', 'NB02474_M14_20220911_122000_augmented1.wav', 'NB02485_M14_20220918_210200_augmented1.wav', 'NB02494_M14_20220922_211400_augmented1.wav', 'NB02511_M14_20220912_100400_augmented1.wav', 'NB02518_M14_20220906_155400_augmented1.wav', 'NB02526_M14_20220901_234800_augmented1.wav', 'NB02575_M14_20220907_113200_augmented1.wav', 'NB02607_M16_20220917_050600_augmented1.wav', 'NB02637_M16_20220831_123000_augmented1.wav', 'NB02654_M16_20220915_215000_augmented1.wav', 'NB02670_M16_20220903_053200_augmented1.wav', 'NB02674_M16_20220922_232600_augmented1.wav', 'NB02684_M16_20220901_092600_augmented1.wav', 'NB02682_M16_20220831_120200_augmented1.wav', 'NB02691_M16_20220917_093000_augmented1.wav', 'NB02750_M16_20220922_124600_augmented1.wav', 'NB02796_M16_20220922_153000_augmented1.wav', 'NB02806_M16_20220909_063000_augmented1.wav', 'NB02814_M16_20220922_084400_augmented1.wav', 'NB02809_M16_20220908_162600_augmented1.wav', 'NB02818_M16_20220925_143200_augmented1.wav', 'NB02864_M16_20220907_050200_augmented1.wav', 'NB02901_M16_20220911_131800_augmented1.wav', 'NB02907_M16_20220902_014200_augmented1.wav', 'NB02929_M16_20220909_150800_augmented1.wav', 'NB02944_M16_20220919_054600_augmented1.wav', 'NB02993_M16_20220919_124000_augmented1.wav', 'NB03025_M17_20220916_142600_augmented1.wav', 'NB03036_M17_20220902_074200_augmented1.wav', 'NB03043_M17_20220912_214400_augmented1.wav', 'NB03062_M17_20220922_000200_augmented1.wav', 'NB03104_M17_20220914_052000_augmented1.wav', 'NB03138_M17_20220907_042200_augmented1.wav', 'NB03149_M17_20220914_181800_augmented1.wav', 'NB03167_M17_20220830_094000_augmented1.wav', 'NB03180_M17_20220922_223400_augmented1.wav', 'NB03203_M17_20220902_171600_augmented1.wav', 'NB03289_M17_20220919_084200_augmented1.wav', 'NB03292_M17_20220912_070400_augmented1.wav', 'NB03303_M17_20220912_192600_augmented1.wav', 'NB03320_M17_20220908_111600_augmented1.wav', 'NB03330_M17_20220920_123800_augmented1.wav', 'NB03328_M17_20220913_135600_augmented1.wav', 'NB03371_M17_20220920_193600_augmented1.wav', 'NB03373_M17_20220914_095800_augmented1.wav', 'NB03374_M17_20220920_073800_augmented1.wav', 'NB03378_M17_20220922_054200_augmented1.wav', 'NB03407_M02_20220908_080000_augmented1.wav', 'NB03439_M02_20220902_141800_augmented1.wav', 'NB03444_M02_20220921_025600_augmented1.wav', 'NB03469_M02_20220919_022400_augmented1.wav', 'NB03492_M02_20220919_164200_augmented1.wav', 'NB03504_M02_20220917_042000_augmented1.wav', 'NB03503_M02_20220918_124600_augmented1.wav', 'NB03512_M02_20220902_002400_augmented1.wav', 'NB03516_M02_20220831_002200_augmented1.wav', 'NB03518_M02_20220901_205400_augmented1.wav', 'NB03534_M02_20220908_122600_augmented1.wav', 'NB03537_M02_20220830_024600_augmented1.wav', 'NB03543_M02_20220908_051400_augmented1.wav', 'NB03563_M02_20220907_215200_augmented1.wav', 'NB03576_M02_20220902_043600_augmented1.wav', 'NB03596_M02_20220901_081600_augmented1.wav', 'NB03597_M02_20220902_151000_augmented1.wav', 'NB03604_M02_20220901_032200_augmented1.wav', 'NB03609_M02_20220914_115600_augmented1.wav', 'NB03614_M02_20220915_121800_augmented1.wav', 'NB03629_M02_20220919_012600_augmented1.wav', 'NB03627_M02_20220917_163600_augmented1.wav', 'NB03641_M02_20220906_172800_augmented1.wav', 'NB03676_M02_20220913_103200_augmented1.wav', 'NB03711_M02_20220829_143800_augmented1.wav', 'NB03758_M02_20220921_041800_augmented1.wav', 'NB03761_M02_20220908_102400_augmented1.wav', 'NB03770_M02_20220903_072800_augmented1.wav', 'NB03786_M02_20220911_045800_augmented1.wav', 'NB03787_M02_20220915_132600_augmented1.wav', 'NB03795_M02_20220915_224800_augmented1.wav', 'NB03844_M08_20220915_050000_augmented1.wav', 'NB03862_M08_20220913_212000_augmented1.wav', 'NB03861_M08_20220917_014600_augmented1.wav', 'NB03863_M08_20220909_182400_augmented1.wav', 'NB03895_M08_20220830_233600_augmented1.wav', 'NB03911_M08_20220831_175800_augmented1.wav', 'NB03926_M08_20220910_140600_augmented1.wav', 'NB03928_M08_20220903_191000_augmented1.wav', 'NB03949_M08_20220908_180800_augmented1.wav', 'NB03948_M08_20220915_071600_augmented1.wav', 'NB03955_M08_20220919_081000_augmented1.wav', 'NB03972_M08_20220902_163800_augmented1.wav', 'NB04023_M08_20220922_015800_augmented1.wav', 'NB04029_M08_20220922_110400_augmented1.wav', 'NB04032_M08_20220907_014200_augmented1.wav', 'NB04056_M08_20220922_113800_augmented1.wav', 'NB04066_M08_20220922_034200_augmented1.wav', 'NB04141_M08_20220918_150400_augmented1.wav', 'NB04151_M08_20220907_024600_augmented1.wav', 'NB04170_M08_20220920_120400_augmented1.wav', 'NB04195_M08_20220911_043800_augmented1.wav', 'NB04234_M01_20220911_142400_augmented1.wav', 'NB04261_M01_20220907_142000_augmented1.wav', 'NB04264_M01_20220831_051600_augmented1.wav', 'NB04274_M01_20220918_232800_augmented1.wav', 'NB04275_M01_20220913_234600_augmented1.wav', 'NB04318_M01_20220921_160400_augmented1.wav', 'NB04343_M01_20220920_065600_augmented1.wav', 'NB04357_M01_20220915_141200_augmented1.wav', 'NB04360_M01_20220922_114400_augmented1.wav', 'NB04388_M01_20220922_054800_augmented1.wav', 'NB04416_M01_20220910_083600_augmented1.wav', 'NB04430_M01_20220911_114000_augmented1.wav', 'NB04454_M01_20220903_124800_augmented1.wav', 'NB04466_M01_20220830_153400_augmented1.wav', 'NB04493_M01_20220909_140600_augmented1.wav', 'NB04502_M01_20220911_095400_augmented1.wav', 'NB04512_M01_20220910_201000_augmented1.wav', 'NB04548_M01_20220921_003000_augmented1.wav', 'NB04549_M01_20220921_103800_augmented1.wav', 'NB04561_M01_20220829_180600_augmented1.wav', 'NB04565_M01_20220921_065200_augmented1.wav', 'NB04579_M01_20220902_134600_augmented1.wav', 'NB04648_M10_20220902_111000_augmented1.wav', 'NB04686_M10_20220904_032400_augmented1.wav', 'NB04688_M10_20220831_012200_augmented1.wav', 'NB04694_M10_20220901_224200_augmented1.wav', 'NB04707_M10_20220901_110000_augmented1.wav', 'NB04744_M10_20220902_033800_augmented1.wav', 'NB04743_M10_20220902_195400_augmented1.wav', 'NB04753_M10_20220831_102600_augmented1.wav', 'NB04761_M10_20220901_123200_augmented1.wav', 'NB04790_M10_20220904_052000_augmented1.wav', 'NB04796_M10_20220830_183200_augmented1.wav', 'NB04813_M10_20220902_043200_augmented1.wav', 'NB04818_M10_20220902_092400_augmented1.wav', 'NB04827_M10_20220901_125800_augmented1.wav', 'NB04836_M10_20220901_202600_augmented1.wav', 'NB04863_M10_20220831_051200_augmented1.wav', 'NB04862_M10_20220903_000800_augmented1.wav', 'NB04922_M10_20220904_025400_augmented1.wav', 'NB04940_M10_20220830_181200_augmented1.wav', 'NB04943_M10_20220902_094600_augmented1.wav', 'NB04952_M10_20220831_194400_augmented1.wav', 'NB04959_M10_20220831_123600_augmented1.wav', 'NB04968_M10_20220831_073200_augmented1.wav', 'NB05001_M11_20220919_104600_augmented1.wav', 'NB05009_M11_20220916_143400_augmented1.wav', 'NB05016_M11_20220917_160600_augmented1.wav', 'NB05035_M11_20220910_060200_augmented1.wav', 'NB05047_M11_20220908_114000_augmented1.wav', 'NB05061_M11_20220910_014400_augmented1.wav', 'NB05071_M11_20220901_204400_augmented1.wav', 'NB05124_M11_20220914_185400_augmented1.wav', 'NB05165_M11_20220907_132600_augmented1.wav', 'NB05169_M11_20220901_040400_augmented1.wav', 'NB05217_M11_20220913_125200_augmented1.wav', 'NB05225_M11_20220901_060200_augmented1.wav', 'NB05236_M11_20220918_073200_augmented1.wav', 'NB05269_M11_20220911_224600_augmented1.wav', 'NB05277_M11_20220919_190000_augmented1.wav', 'NB05298_M11_20220902_082800_augmented1.wav', 'NB05297_M11_20220921_124600_augmented1.wav', 'NB05314_M11_20220907_073200_augmented1.wav', 'NB05373_M11_20220916_033600_augmented1.wav', 'NB05398_M11_20220920_133600_augmented1.wav', 'NB05406_M04_20220830_121800_augmented1.wav', 'NB05407_M04_20220829_190400_augmented1.wav', 'NB05413_M04_20220910_111800_augmented1.wav', 'NB05417_M04_20220901_020600_augmented1.wav', 'NB05436_M04_20220831_013400_augmented1.wav', 'NB05438_M04_20220914_003600_augmented1.wav', 'NB05455_M04_20220919_173000_augmented1.wav', 'NB05468_M04_20220913_113200_augmented1.wav', 'NB05569_M04_20220920_173200_augmented1.wav', 'NB05629_M04_20220921_035600_augmented1.wav', 'NB05668_M04_20220916_221000_augmented1.wav', 'NB05686_M04_20220922_111400_augmented1.wav', 'NB05689_M04_20220920_024000_augmented1.wav', 'NB05713_M04_20220901_062200_augmented1.wav', 'NB05736_M04_20220910_150800_augmented1.wav', 'NB05765_M04_20220920_105600_augmented1.wav', 'NB05786_M04_20220906_141800_augmented1.wav', 'NB05830_M05_20220831_211400_augmented1.wav', 'NB05868_M05_20220901_072800_augmented1.wav', 'NB05872_M05_20220902_162000_augmented1.wav', 'NB05885_M05_20220902_205400_augmented1.wav', 'NB05895_M05_20220831_232200_augmented1.wav', 'NB05911_M05_20220901_180400_augmented1.wav', 'NB05915_M05_20220901_220600_augmented1.wav', 'NB05921_M05_20220901_061400_augmented1.wav', 'NB05926_M05_20220903_014200_augmented1.wav', 'NB05938_M05_20220831_100200_augmented1.wav', 'NB05962_M05_20220831_045200_augmented1.wav', 'NB05975_M05_20220903_094000_augmented1.wav', 'NB05978_M05_20220901_230200_augmented1.wav', 'NB05976_M05_20220902_132600_augmented1.wav', 'NB06009_M05_20220830_133000_augmented1.wav', 'NB06013_M05_20220904_012800_augmented1.wav', 'NB06018_M05_20220830_123800_augmented1.wav', 'NB06017_M05_20220903_205800_augmented1.wav', 'NB06024_M05_20220903_185400_augmented1.wav', 'NB06031_M05_20220830_114000_augmented1.wav', 'NB06061_M05_20220901_101400_augmented1.wav', 'NB06062_M05_20220830_214600_augmented1.wav', 'NB06065_M05_20220830_202000_augmented1.wav', 'NB06075_M05_20220831_234400_augmented1.wav', 'NB06080_M05_20220831_031600_augmented1.wav', 'NB06091_M05_20220830_112600_augmented1.wav', 'NB06094_M05_20220903_130000_augmented1.wav', 'NB06100_M05_20220903_160400_augmented1.wav', 'NB06109_M05_20220902_232400_augmented1.wav', 'NB06110_M05_20220902_171200_augmented1.wav', 'NB06140_M05_20220901_165400_augmented1.wav', 'NB06155_M05_20220831_230600_augmented1.wav', 'NB06180_M05_20220830_073600_augmented1.wav', 'NB06202_M07_20220831_010000_augmented1.wav', 'NB06209_M07_20220923_183000_augmented1.wav', 'NB06221_M07_20220901_000600_augmented1.wav', 'NB06230_M07_20220916_115800_augmented1.wav', 'NB06231_M07_20220920_083400_augmented1.wav', 'NB06253_M07_20220909_013800_augmented1.wav', 'NB06326_M07_20220909_024200_augmented1.wav', 'NB06332_M07_20220920_102000_augmented1.wav', 'NB06347_M07_20220916_023600_augmented1.wav', 'NB06350_M07_20220912_202400_augmented1.wav', 'NB06361_M07_20220831_063800_augmented1.wav', 'NB06368_M07_20220909_055000_augmented1.wav', 'NB06380_M07_20220903_074200_augmented1.wav', 'NB06399_M07_20220831_024000_augmented1.wav', 'NB06426_M07_20220920_191000_augmented1.wav', 'NB06436_M07_20220916_083200_augmented1.wav', 'NB06450_M07_20220831_155400_augmented1.wav', 'NB06477_M07_20220906_202000_augmented1.wav', 'NB06564_M07_20220830_050800_augmented1.wav', 'NB06596_M07_20220922_072800_augmented1.wav', 'NB06599_M07_20220910_071200_augmented1.wav', 'NB06625_M12_20220917_054800_augmented1.wav', 'NB06637_M12_20220901_031000_augmented1.wav', 'NB06638_M12_20220901_205400_augmented1.wav', 'NB06643_M12_20220908_165800_augmented1.wav', 'NB06667_M12_20220910_144800_augmented1.wav', 'NB06676_M12_20220912_200000_augmented1.wav', 'NB06720_M12_20220921_163800_augmented1.wav', 'NB06728_M12_20220909_071200_augmented1.wav', 'NB06763_M12_20220902_072000_augmented1.wav', 'NB06780_M12_20220914_050600_augmented1.wav', 'NB06791_M12_20220916_014000_augmented1.wav', 'NB06821_M12_20220909_231600_augmented1.wav', 'NB06841_M12_20220908_094800_augmented1.wav', 'NB06851_M12_20220830_200400_augmented1.wav', 'NB06855_M12_20220903_030000_augmented1.wav', 'NB06861_M12_20220903_115400_augmented1.wav', 'NB06867_M12_20220922_070800_augmented1.wav', 'NB06915_M12_20220907_232400_augmented1.wav', 'NB06918_M12_20220921_152000_augmented1.wav', 'NB06926_M12_20220917_231400_augmented1.wav', 'NB06959_M12_20220911_231000_augmented1.wav', 'NB06968_M12_20220907_150400_augmented1.wav', 'NB06974_M12_20220916_032600_augmented1.wav', 'NB07017_M15_20220915_065200_augmented1.wav', 'NB07033_M15_20220913_083000_augmented1.wav', 'NB07047_M15_20220831_135800_augmented1.wav', 'NB07065_M15_20220917_033000_augmented1.wav', 'NB07093_M15_20220913_055000_augmented1.wav', 'NB07097_M15_20220829_164400_augmented1.wav', 'NB07108_M15_20220902_092800_augmented1.wav', 'NB07139_M15_20220922_234800_augmented1.wav', 'NB07160_M15_20220907_184200_augmented1.wav', 'NB07156_M15_20220909_180800_augmented1.wav', 'NB07186_M15_20220917_073800_augmented1.wav', 'NB07195_M15_20220919_132600_augmented1.wav', 'NB07203_M15_20220907_145000_augmented1.wav', 'NB07205_M15_20220910_193600_augmented1.wav', 'NB07207_M15_20220923_104600_augmented1.wav', 'NB07209_M15_20220912_130600_augmented1.wav', 'NB07278_M15_20220907_035000_augmented1.wav', 'NB07283_M15_20220903_114000_augmented1.wav', 'NB07287_M15_20220830_125400_augmented1.wav', 'NB07313_M15_20220907_191800_augmented1.wav', 'NB07342_M15_20220915_233000_augmented1.wav', 'NB07351_M15_20220914_170000_augmented1.wav', 'NB07364_M15_20220920_134200_augmented1.wav', 'NB07373_M15_20220914_023600_augmented1.wav', 'NB07379_M15_20220907_104000_augmented1.wav', 'NB07388_M15_20220902_045400_augmented1.wav', 'NB07416_M18_20220911_090200_augmented1.wav', 'NB07432_M18_20220912_202600_augmented1.wav', 'NB07437_M18_20220908_235200_augmented1.wav', 'NB07449_M18_20220916_231400_augmented1.wav', 'NB07500_M18_20220907_004800_augmented1.wav', 'NB07502_M18_20220914_010200_augmented1.wav', 'NB07530_M18_20220915_191600_augmented1.wav', 'NB07532_M18_20220830_191000_augmented1.wav', 'NB07535_M18_20220917_021200_augmented1.wav', 'NB07553_M18_20220914_184600_augmented1.wav', 'NB07571_M18_20220915_131600_augmented1.wav', 'NB07580_M18_20220901_024800_augmented1.wav', 'NB07594_M18_20220915_181400_augmented1.wav', 'NB07598_M18_20220920_095200_augmented1.wav', 'NB07612_M18_20220920_080000_augmented1.wav', 'NB07659_M18_20220910_114000_augmented1.wav', 'NB07672_M18_20220910_214400_augmented1.wav', 'NB07695_M18_20220907_151600_augmented1.wav', 'NB07705_M18_20220902_010000_augmented1.wav', 'NB07722_M18_20220915_072400_augmented1.wav', 'NB07736_M18_20220915_181200_augmented1.wav', 'NB07740_M18_20220903_190800_augmented1.wav', 'NB07789_M18_20220903_044400_augmented1.wav', 'NB07817_M03_20220917_204200_augmented1.wav', 'NB07830_M03_20220910_073800_augmented1.wav', 'NB07834_M03_20220902_203000_augmented1.wav', 'NB07850_M03_20220915_001400_augmented1.wav', 'NB07864_M03_20220831_075600_augmented1.wav', 'NB07870_M03_20220916_120800_augmented1.wav', 'NB07879_M03_20220830_102400_augmented1.wav', 'NB07895_M03_20220908_001600_augmented1.wav', 'NB07907_M03_20220921_173800_augmented1.wav', 'NB07928_M03_20220917_210800_augmented1.wav', 'NB07943_M03_20220919_074200_augmented1.wav', 'NB07956_M03_20220917_071400_augmented1.wav', 'NB07973_M03_20220915_194600_augmented1.wav', 'NB07983_M03_20220919_213400_augmented1.wav', 'NB07982_M03_20220915_080400_augmented1.wav', 'NB08022_M03_20220831_014600_augmented1.wav', 'NB08059_M03_20220903_053400_augmented1.wav', 'NB08064_M03_20220902_000600_augmented1.wav', 'NB08062_M03_20220914_002600_augmented1.wav', 'NB08109_M03_20220904_074400_augmented1.wav', 'NB08145_M03_20220831_161600_augmented1.wav', 'NB08172_M03_20220919_104800_augmented1.wav', 'NB08183_M03_20220830_064400_augmented1.wav', 'NB08182_M03_20220909_153600_augmented1.wav', 'NB08191_M03_20220916_104800_augmented1.wav', 'NB08204_M06_20220908_051800_augmented1.wav', 'NB08241_M06_20220917_025200_augmented1.wav', 'NB08243_M06_20220920_113800_augmented1.wav', 'NB08252_M06_20220902_201000_augmented1.wav', 'NB08271_M06_20220917_041800_augmented1.wav', 'NB08288_M06_20220917_071800_augmented1.wav', 'NB08297_M06_20220915_162600_augmented1.wav', 'NB08334_M06_20220918_183400_augmented1.wav', 'NB08358_M06_20220830_092200_augmented1.wav', 'NB08390_M06_20220829_153400_augmented1.wav', 'NB08397_M06_20220917_191800_augmented1.wav', 'NB08406_M06_20220908_054800_augmented1.wav', 'NB08412_M06_20220830_123000_augmented1.wav', 'NB08421_M06_20220915_170200_augmented1.wav', 'NB08498_M06_20220916_201800_augmented1.wav', 'NB08510_M06_20220917_031800_augmented1.wav', 'NB08531_M06_20220912_160200_augmented1.wav', 'NB08606_M09_20220914_065200_augmented1.wav', 'NB08614_M09_20220830_122000_augmented1.wav', 'NB08636_M09_20220830_052800_augmented1.wav', 'NB08672_M09_20220913_112800_augmented1.wav', 'NB08671_M09_20220912_032600_augmented1.wav', 'NB08723_M09_20220922_081600_augmented1.wav', 'NB08726_M09_20220921_053200_augmented1.wav', 'NB08734_M09_20220913_111600_augmented1.wav', 'NB08777_M09_20220922_211000_augmented1.wav', 'NB08779_M09_20220902_212600_augmented1.wav', 'NB08790_M09_20220830_001400_augmented1.wav', 'NB08800_M09_20220901_060600_augmented1.wav', 'NB08815_M09_20220921_102800_augmented1.wav', 'NB08820_M09_20220903_120200_augmented1.wav', 'NB08824_M09_20220918_035200_augmented1.wav', 'NB08845_M09_20220908_160200_augmented1.wav', 'NB08856_M09_20220913_151200_augmented1.wav', 'NB08866_M09_20220916_073400_augmented1.wav', 'NB08881_M09_20220912_222000_augmented1.wav', 'NB08922_M09_20220907_155600_augmented1.wav', 'NB08950_M09_20220830_005000_augmented1.wav', 'NB08980_M09_20220915_221000_augmented1.wav', 'NB08985_M09_20220916_111000_augmented1.wav', 'YB00013_M02_20220901_082000_augmented5.wav', 'YB00031_M04_20220908_170600_augmented5.wav', 'YB00027_M03_20220906_165800_augmented5.wav', 'YB00034_M04_20220911_093600_augmented5.wav', 'YB00049_M06_20220914_124800_augmented5.wav', 'YB00057_M07_20220915_121000_augmented5.wav', 'YB00065_M08_20220919_115400_augmented5.wav', 'YB00062_M08_20220915_165600_augmented5.wav', 'YB00067_M08_20220919_134600_augmented5.wav', 'YB00075_M09_20220922_114200_augmented5.wav', 'YB00083_M10_20220831_103400_augmented5.wav', 'YB00079_M09_20220830_110000_augmented5.wav', 'YB00124_M14_20220915_083200_augmented5.wav', 'YB00129_M14_20220919_115400_augmented5.wav', 'YB00141_M16_20220922_103600_augmented5.wav', 'YB00143_M16_20220922_114200_augmented5.wav', 'YB00152_M17_20220902_084000_augmented5.wav', 'YB00154_M17_20220902_154000_augmented5.wav', 'YB00155_M17_20220902_161800_augmented5.wav', 'YB00165_M18_20220908_093600_augmented5.wav', 'YB00171_M05_20220830_110000_augmented5.wav', 'YB00174_M05_20220830_110800_augmented5.wav', 'YB00192_M09_20220830_131400_augmented5.wav', 'YB00200_M05_20220830_150600_augmented5.wav', 'YB00196_M07_20220915_151000_augmented5.wav', 'YB00013_M02_20220901_082000_augmented6.wav', 'YB00027_M03_20220906_165800_augmented6.wav', 'YB00031_M04_20220908_170600_augmented6.wav', 'YB00034_M04_20220911_093600_augmented6.wav', 'YB00049_M06_20220914_124800_augmented6.wav', 'YB00057_M07_20220915_121000_augmented6.wav', 'YB00065_M08_20220919_115400_augmented6.wav', 'YB00062_M08_20220915_165600_augmented6.wav', 'YB00067_M08_20220919_134600_augmented6.wav', 'YB00075_M09_20220922_114200_augmented6.wav', 'YB00079_M09_20220830_110000_augmented6.wav', 'YB00083_M10_20220831_103400_augmented6.wav', 'YB00124_M14_20220915_083200_augmented6.wav', 'YB00129_M14_20220919_115400_augmented6.wav', 'YB00141_M16_20220922_103600_augmented6.wav', 'YB00143_M16_20220922_114200_augmented6.wav', 'YB00152_M17_20220902_084000_augmented6.wav', 'YB00154_M17_20220902_154000_augmented6.wav', 'YB00155_M17_20220902_161800_augmented6.wav', 'YB00165_M18_20220908_093600_augmented6.wav', 'YB00171_M05_20220830_110000_augmented6.wav', 'YB00174_M05_20220830_110800_augmented6.wav', 'YB00192_M09_20220830_131400_augmented6.wav', 'YB00196_M07_20220915_151000_augmented6.wav', 'YB00200_M05_20220830_150600_augmented6.wav', 'YB00013_M02_20220901_082000_augmented7.wav', 'YB00027_M03_20220906_165800_augmented7.wav', 'YB00031_M04_20220908_170600_augmented7.wav', 'YB00034_M04_20220911_093600_augmented7.wav', 'YB00049_M06_20220914_124800_augmented7.wav', 'YB00057_M07_20220915_121000_augmented7.wav', 'YB00062_M08_20220915_165600_augmented7.wav', 'YB00065_M08_20220919_115400_augmented7.wav', 'YB00067_M08_20220919_134600_augmented7.wav', 'YB00075_M09_20220922_114200_augmented7.wav', 'YB00079_M09_20220830_110000_augmented7.wav', 'YB00083_M10_20220831_103400_augmented7.wav', 'YB00124_M14_20220915_083200_augmented7.wav', 'YB00129_M14_20220919_115400_augmented7.wav', 'YB00141_M16_20220922_103600_augmented7.wav', 'YB00143_M16_20220922_114200_augmented7.wav', 'YB00152_M17_20220902_084000_augmented7.wav', 'YB00154_M17_20220902_154000_augmented7.wav', 'YB00155_M17_20220902_161800_augmented7.wav', 'YB00165_M18_20220908_093600_augmented7.wav', 'YB00171_M05_20220830_110000_augmented7.wav', 'YB00174_M05_20220830_110800_augmented7.wav', 'YB00192_M09_20220830_131400_augmented7.wav', 'YB00196_M07_20220915_151000_augmented7.wav', 'YB00200_M05_20220830_150600_augmented7.wav', 'YB00013_M02_20220901_082000_augmented8.wav', 'YB00031_M04_20220908_170600_augmented8.wav', 'YB00027_M03_20220906_165800_augmented8.wav', 'YB00034_M04_20220911_093600_augmented8.wav', 'YB00049_M06_20220914_124800_augmented8.wav', 'YB00057_M07_20220915_121000_augmented8.wav', 'YB00062_M08_20220915_165600_augmented8.wav', 'YB00067_M08_20220919_134600_augmented8.wav', 'YB00065_M08_20220919_115400_augmented8.wav', 'YB00079_M09_20220830_110000_augmented8.wav', 'YB00075_M09_20220922_114200_augmented8.wav', 'YB00083_M10_20220831_103400_augmented8.wav', 'YB00129_M14_20220919_115400_augmented8.wav', 'YB00124_M14_20220915_083200_augmented8.wav', 'YB00143_M16_20220922_114200_augmented8.wav', 'YB00141_M16_20220922_103600_augmented8.wav', 'YB00152_M17_20220902_084000_augmented8.wav', 'YB00154_M17_20220902_154000_augmented8.wav', 'YB00155_M17_20220902_161800_augmented8.wav', 'YB00165_M18_20220908_093600_augmented8.wav', 'YB00171_M05_20220830_110000_augmented8.wav', 'YB00174_M05_20220830_110800_augmented8.wav', 'YB00192_M09_20220830_131400_augmented8.wav', 'YB00196_M07_20220915_151000_augmented8.wav', 'YB00200_M05_20220830_150600_augmented8.wav', 'YB00013_M02_20220901_082000_augmented9.wav', 'YB00027_M03_20220906_165800_augmented9.wav', 'YB00031_M04_20220908_170600_augmented9.wav', 'YB00034_M04_20220911_093600_augmented9.wav', 'YB00049_M06_20220914_124800_augmented9.wav', 'YB00057_M07_20220915_121000_augmented9.wav', 'YB00062_M08_20220915_165600_augmented9.wav', 'YB00065_M08_20220919_115400_augmented9.wav', 'YB00067_M08_20220919_134600_augmented9.wav', 'YB00075_M09_20220922_114200_augmented9.wav', 'YB00079_M09_20220830_110000_augmented9.wav', 'YB00083_M10_20220831_103400_augmented9.wav', 'YB00124_M14_20220915_083200_augmented9.wav', 'YB00129_M14_20220919_115400_augmented9.wav', 'YB00141_M16_20220922_103600_augmented9.wav', 'YB00143_M16_20220922_114200_augmented9.wav', 'YB00152_M17_20220902_084000_augmented9.wav', 'YB00154_M17_20220902_154000_augmented9.wav', 'YB00155_M17_20220902_161800_augmented9.wav', 'YB00165_M18_20220908_093600_augmented9.wav', 'YB00171_M05_20220830_110000_augmented9.wav', 'YB00174_M05_20220830_110800_augmented9.wav', 'YB00192_M09_20220830_131400_augmented9.wav', 'YB00196_M07_20220915_151000_augmented9.wav', 'YB00200_M05_20220830_150600_augmented9.wav', 'YB00200_M05_20220830_150600.wav', 'YB00174_M05_20220830_110800.wav', 'YB00171_M05_20220830_110000.wav', 'YB00165_M18_20220908_093600.wav', 'YB00124_M14_20220915_083200.wav', 'YB00155_M17_20220902_161800.wav', 'YB00141_M16_20220922_103600.wav', 'YB00154_M17_20220902_154000.wav', 'YB00129_M14_20220919_115400.wav', 'YB00143_M16_20220922_114200.wav', 'YB00152_M17_20220902_084000.wav', 'YB00075_M09_20220922_114200.wav', 'YB00079_M09_20220830_110000.wav', 'YB00192_M09_20220830_131400.wav', 'YB00196_M07_20220915_151000.wav', 'YB00065_M08_20220919_115400.wav', 'YB00083_M10_20220831_103400.wav', 'YB00067_M08_20220919_134600.wav', 'YB00062_M08_20220915_165600.wav', 'YB00027_M03_20220906_165800.wav', 'YB00034_M04_20220911_093600.wav', 'YB00031_M04_20220908_170600.wav', 'YB00049_M06_20220914_124800.wav', 'YB00057_M07_20220915_121000.wav', 'YB00013_M02_20220901_082000.wav', 'YB00013_M02_20220901_082000_augmented1.wav', 'YB00027_M03_20220906_165800_augmented1.wav', 'YB00034_M04_20220911_093600_augmented1.wav', 'YB00031_M04_20220908_170600_augmented1.wav', 'YB00049_M06_20220914_124800_augmented1.wav', 'YB00057_M07_20220915_121000_augmented1.wav', 'YB00062_M08_20220915_165600_augmented1.wav', 'YB00067_M08_20220919_134600_augmented1.wav', 'YB00065_M08_20220919_115400_augmented1.wav', 'YB00075_M09_20220922_114200_augmented1.wav', 'YB00079_M09_20220830_110000_augmented1.wav', 'YB00083_M10_20220831_103400_augmented1.wav', 'YB00124_M14_20220915_083200_augmented1.wav', 'YB00129_M14_20220919_115400_augmented1.wav', 'YB00141_M16_20220922_103600_augmented1.wav', 'YB00143_M16_20220922_114200_augmented1.wav', 'YB00152_M17_20220902_084000_augmented1.wav', 'YB00154_M17_20220902_154000_augmented1.wav', 'YB00155_M17_20220902_161800_augmented1.wav', 'YB00165_M18_20220908_093600_augmented1.wav', 'YB00171_M05_20220830_110000_augmented1.wav', 'YB00174_M05_20220830_110800_augmented1.wav', 'YB00192_M09_20220830_131400_augmented1.wav', 'YB00196_M07_20220915_151000_augmented1.wav', 'YB00200_M05_20220830_150600_augmented1.wav', 'YB00013_M02_20220901_082000_augmented2.wav', 'YB00027_M03_20220906_165800_augmented2.wav', 'YB00031_M04_20220908_170600_augmented2.wav', 'YB00034_M04_20220911_093600_augmented2.wav', 'YB00049_M06_20220914_124800_augmented2.wav', 'YB00057_M07_20220915_121000_augmented2.wav', 'YB00062_M08_20220915_165600_augmented2.wav', 'YB00065_M08_20220919_115400_augmented2.wav', 'YB00067_M08_20220919_134600_augmented2.wav', 'YB00075_M09_20220922_114200_augmented2.wav', 'YB00079_M09_20220830_110000_augmented2.wav', 'YB00083_M10_20220831_103400_augmented2.wav', 'YB00124_M14_20220915_083200_augmented2.wav', 'YB00129_M14_20220919_115400_augmented2.wav', 'YB00141_M16_20220922_103600_augmented2.wav', 'YB00143_M16_20220922_114200_augmented2.wav', 'YB00152_M17_20220902_084000_augmented2.wav', 'YB00155_M17_20220902_161800_augmented2.wav', 'YB00154_M17_20220902_154000_augmented2.wav', 'YB00165_M18_20220908_093600_augmented2.wav', 'YB00171_M05_20220830_110000_augmented2.wav', 'YB00174_M05_20220830_110800_augmented2.wav', 'YB00192_M09_20220830_131400_augmented2.wav', 'YB00196_M07_20220915_151000_augmented2.wav', 'YB00200_M05_20220830_150600_augmented2.wav', 'YB00013_M02_20220901_082000_augmented3.wav', 'YB00027_M03_20220906_165800_augmented3.wav', 'YB00031_M04_20220908_170600_augmented3.wav', 'YB00034_M04_20220911_093600_augmented3.wav', 'YB00049_M06_20220914_124800_augmented3.wav', 'YB00057_M07_20220915_121000_augmented3.wav', 'YB00062_M08_20220915_165600_augmented3.wav', 'YB00065_M08_20220919_115400_augmented3.wav', 'YB00067_M08_20220919_134600_augmented3.wav', 'YB00075_M09_20220922_114200_augmented3.wav', 'YB00079_M09_20220830_110000_augmented3.wav', 'YB00083_M10_20220831_103400_augmented3.wav', 'YB00124_M14_20220915_083200_augmented3.wav', 'YB00129_M14_20220919_115400_augmented3.wav', 'YB00141_M16_20220922_103600_augmented3.wav', 'YB00143_M16_20220922_114200_augmented3.wav', 'YB00152_M17_20220902_084000_augmented3.wav', 'YB00154_M17_20220902_154000_augmented3.wav', 'YB00155_M17_20220902_161800_augmented3.wav', 'YB00165_M18_20220908_093600_augmented3.wav', 'YB00171_M05_20220830_110000_augmented3.wav', 'YB00174_M05_20220830_110800_augmented3.wav', 'YB00192_M09_20220830_131400_augmented3.wav', 'YB00196_M07_20220915_151000_augmented3.wav', 'YB00200_M05_20220830_150600_augmented3.wav', 'YB00013_M02_20220901_082000_augmented4.wav', 'YB00027_M03_20220906_165800_augmented4.wav', 'YB00031_M04_20220908_170600_augmented4.wav', 'YB00034_M04_20220911_093600_augmented4.wav', 'YB00049_M06_20220914_124800_augmented4.wav', 'YB00057_M07_20220915_121000_augmented4.wav', 'YB00062_M08_20220915_165600_augmented4.wav', 'YB00065_M08_20220919_115400_augmented4.wav', 'YB00067_M08_20220919_134600_augmented4.wav', 'YB00075_M09_20220922_114200_augmented4.wav', 'YB00079_M09_20220830_110000_augmented4.wav', 'YB00083_M10_20220831_103400_augmented4.wav', 'YB00124_M14_20220915_083200_augmented4.wav', 'YB00129_M14_20220919_115400_augmented4.wav', 'YB00141_M16_20220922_103600_augmented4.wav', 'YB00143_M16_20220922_114200_augmented4.wav', 'YB00152_M17_20220902_084000_augmented4.wav', 'YB00154_M17_20220902_154000_augmented4.wav', 'YB00155_M17_20220902_161800_augmented4.wav', 'YB00165_M18_20220908_093600_augmented4.wav', 'YB00174_M05_20220830_110800_augmented4.wav', 'YB00171_M05_20220830_110000_augmented4.wav', 'YB00192_M09_20220830_131400_augmented4.wav', 'YB00196_M07_20220915_151000_augmented4.wav', 'YB00200_M05_20220830_150600_augmented4.wav', 'NB00254_M16_20220902_091000.WAV', 'NB00220_M16_20220913_012200.WAV', 'NB00240_M16_20220923_152000.WAV', 'NB00113_M14_20220915_095000.WAV', 'NB00231_M16_20220912_183600.WAV', 'NB00107_M14_20220918_105600.WAV', 'NB00272_M16_20220904_000200.WAV', 'NB00273_M16_20220913_013400.WAV', 'NB00172_M14_20220913_101600.WAV', 'NB00261_M16_20220913_115400.WAV', 'NB00390_M17_20220902_225000.WAV', 'NB00001_M13_20220902_052800.WAV', 'NB00169_M14_20220921_191600.WAV', 'NB00264_M16_20220911_084600.WAV', 'NB00144_M14_20220830_082800.WAV', 'NB00330_M17_20220914_180600.WAV', 'NB00310_M17_20220915_044800.WAV', 'NB00276_M16_20220912_123800.WAV', 'NB00373_M17_20220908_222000.WAV', 'NB00174_M14_20220912_193600.WAV', 'NB00725_M10_20220901_114200.WAV', 'NB00648_M01_20220910_165400.WAV', 'NB00478_M02_20220919_114800.WAV', 'NB00792_M10_20220904_090000.WAV', 'NB00807_M11_20220902_200600.WAV', 'NB00586_M08_20220912_032600.WAV', 'NB00517_M08_20220903_210200.WAV', 'NB00794_M10_20220903_120400.WAV', 'NB00661_M01_20220913_003400.WAV', 'NB00671_M01_20220916_012600.WAV', 'NB00527_M08_20220915_063200.WAV', 'NB00672_M01_20220907_191800.WAV', 'NB00629_M01_20220917_102400.WAV', 'NB00735_M10_20220830_094400.WAV', 'NB00475_M02_20220912_083200.WAV', 'NB00710_M10_20220830_200600.WAV', 'NB00587_M08_20220830_160800.WAV', 'NB00833_M11_20220831_043000.WAV', 'NB00492_M02_20220903_062000.WAV', 'NB00642_M01_20220907_103800.WAV', 'NB00968_M04_20220913_104800.WAV', 'NB00907_M04_20220912_025600.WAV', 'NB01037_M05_20220901_121000.WAV', 'NB01227_M12_20220830_014800.WAV', 'NB01219_M12_20220831_103400.WAV', 'NB01001_M05_20220830_122200.WAV', 'NB01198_M07_20220829_103000.WAV', 'NB01209_M12_20220914_182800.WAV', 'NB01175_M07_20220902_142400.WAV', 'NB01301_M15_20220912_224800.WAV', 'NB01284_M12_20220921_024800.WAV', 'NB01050_M05_20220831_093200.WAV', 'NB01268_M12_20220914_121400.WAV', 'NB01189_M07_20220829_112800.WAV', 'NB00870_M11_20220910_153800.WAV', 'NB01287_M12_20220915_221800.WAV', 'NB01134_M07_20220830_230000.WAV', 'NB01152_M07_20220924_040000.WAV', 'NB00889_M11_20220831_220200.WAV', 'NB01072_M05_20220902_171600.WAV', 'NB01066_M05_20220903_142000.WAV', 'NB01012_M05_20220903_064400.WAV', 'NB01251_M12_20220911_100800.WAV', 'NB01115_M07_20220910_060800.WAV', 'NB01171_M07_20220830_180200.WAV', 'NB01296_M12_20220902_032600.WAV', 'NB01052_M05_20220830_195400.WAV', 'NB00954_M04_20220919_060200.WAV', 'NB01711_M09_20220831_234000.WAV', 'NB01485_M18_20220921_205800.WAV', 'NB01515_M03_20220902_204600.WAV', 'NB01745_M09_20220912_021000.WAV', 'NB01766_M09_20220912_071000.WAV', 'NB01489_M18_20220916_231000.WAV', 'NB01497_M18_20220908_025400.WAV', 'NB01687_M06_20220903_155400.WAV', 'NB01498_M18_20220910_102000.WAV', 'NB01548_M03_20220911_224200.WAV', 'NB01622_M06_20220919_094000.WAV', 'NB01552_M03_20220920_195600.WAV', 'NB01725_M09_20220912_233600.WAV', 'NB01414_M18_20220910_071800.WAV', 'NB01573_M03_20220915_200400.WAV', 'NB01428_M18_20220904_064400.WAV', 'NB01710_M09_20220912_041400.WAV', 'NB01683_M06_20220922_145800.WAV', 'NB01575_M03_20220912_000200.WAV', 'NB01582_M03_20220911_211000.WAV', 'NB01791_M09_20220918_103200.WAV', 'NB01504_M03_20220914_131000.WAV', 'NB01647_M06_20220908_125200.WAV', 'NB01538_M03_20220909_004600.WAV', 'NB01841_M13_20220831_011600.WAV', 'NB02055_M13_20220921_113200.WAV', 'NB01813_M13_20220917_114600.WAV', 'NB02017_M13_20220915_202600.WAV', 'NB02004_M13_20220901_213600.WAV', 'NB02127_M13_20220902_175400.WAV', 'NB01933_M13_20220919_195200.WAV', 'NB02115_M13_20220831_021600.WAV', 'NB01878_M13_20220915_201600.WAV', 'NB02036_M13_20220902_200600.WAV', 'NB01916_M13_20220909_102200.WAV', 'NB01825_M13_20220909_081200.WAV', 'NB02065_M13_20220917_181000.WAV', 'NB01903_M13_20220913_225600.WAV', 'NB02018_M13_20220909_010800.WAV', 'NB02177_M13_20220831_123400.WAV', 'NB02111_M13_20220903_214200.WAV', 'NB02575_M14_20220907_113200.WAV', 'NB02294_M14_20220913_210800.WAV', 'NB02494_M14_20220922_211400.WAV', 'NB02206_M14_20220913_221000.WAV', 'NB02412_M14_20220918_141400.WAV', 'NB02433_M14_20220921_122600.WAV', 'NB02336_M14_20220920_185600.WAV', 'NB02455_M14_20220915_212800.WAV', 'NB02526_M14_20220901_234800.WAV', 'NB02453_M14_20220831_013800.WAV', 'NB02398_M14_20220903_130200.WAV', 'NB02369_M14_20220917_034200.WAV', 'NB02361_M14_20220922_102000.WAV', 'NB02474_M14_20220911_122000.WAV', 'NB02607_M16_20220917_050600.WAV', 'NB02403_M14_20220923_070200.WAV']"
      ],
      "metadata": {
        "id": "j_r0e9ukokzP"
      },
      "execution_count": null,
      "outputs": []
    },
    {
      "cell_type": "code",
      "source": [
        "# get one hot encoded predictions\n",
        "boolean_test_predictions = raw_test_predictions > 0.5\n",
        "class_test_predictions  = boolean_test_predictions.astype(int)\n",
        "\n",
        "# make a df of the predictions and tru label for each test file\n",
        "df = pd.DataFrame({\n",
        "    'filenames': test_filenames,\n",
        "    'raw_predictions': raw_test_predictions.flatten(),\n",
        "    'class_predictions': class_test_predictions.flatten(),\n",
        "    'labels': test_labels.flatten()\n",
        "})\n",
        "\n",
        "# create a timestamped filename for the CSV file\n",
        "timestamp = datetime.now().strftime('%Y-%m-%d-%H-%M-%S')\n",
        "filename = f'{timestamp}_50run_test_predictions.csv'\n",
        "\n",
        "# create the full path for the CSV file\n",
        "csv_path = os.path.join(pickle_file_dir, filename)\n",
        "\n",
        "# write the DataFrame to a CSV file\n",
        "df.to_csv(csv_path, index=False)\n",
        "\n",
        "print(f'CSV file saved to {csv_path}')"
      ],
      "metadata": {
        "colab": {
          "base_uri": "https://localhost:8080/"
        },
        "id": "fRCoJZWbm7aB",
        "outputId": "863d115f-21e3-4dc0-f1c7-4a079301947f"
      },
      "execution_count": null,
      "outputs": [
        {
          "output_type": "stream",
          "name": "stdout",
          "text": [
            "CSV file saved to /content/drive/MyDrive/bombs/data/final_dataset/2023-02-28-19-39-37_50run_test_predictions.csv\n"
          ]
        }
      ]
    },
    {
      "cell_type": "code",
      "source": [],
      "metadata": {
        "id": "5ztcCE9XiDT4"
      },
      "execution_count": null,
      "outputs": []
    }
  ]
}